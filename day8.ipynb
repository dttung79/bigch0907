{
 "cells": [
  {
   "cell_type": "code",
   "execution_count": 20,
   "metadata": {},
   "outputs": [],
   "source": [
    "# Suppose we have a data of 2d list, each row contains name, phone and salary.\n",
    "employees = [['John Smith', '1234567890', 100],\n",
    "             ['Jane Doe', '2345678901', 200],\n",
    "             ['', '3456789012', 500],\n",
    "             ['Melody Pond', 'aa7890123', 3000],\n",
    "             ['Dean Winchester', '56A89A123A', 1000],\n",
    "             ['Jodie Whittakerrrrrrrrrrrrrrrrrrrrrr', '6789012345', 1500]]\n"
   ]
  },
  {
   "cell_type": "code",
   "execution_count": 2,
   "metadata": {},
   "outputs": [],
   "source": [
    "def do_nothing(employees):\n",
    "    pass\n",
    "def clean_employees(employees, clean_name=do_nothing, clean_phone=do_nothing, clean_salary=do_nothing):\n",
    "    clean_name(employees)\n",
    "    clean_phone(employees)\n",
    "    clean_salary(employees)\n"
   ]
  },
  {
   "cell_type": "code",
   "execution_count": null,
   "metadata": {},
   "outputs": [],
   "source": [
    "def print_employees(employees):\n",
    "    for row in employees:\n",
    "        print(f'{row[0]:<25}: {row[1]:10s}, ${row[2]:5}')\n",
    "def empty_2_default(employees):\n",
    "    for row in employees:\n",
    "        if row[0] == '':\n",
    "            row[0] = 'John Doe'\n",
    "\n",
    "clean_employees(employees, clean_name=empty_2_default)\n",
    "print_employees(employees)"
   ]
  },
  {
   "cell_type": "code",
   "execution_count": 9,
   "metadata": {},
   "outputs": [
    {
     "name": "stdout",
     "output_type": "stream",
     "text": [
      "John Smith               : 1234567890, $  100\n",
      "Jane Doe                 : 2345678901, $  200\n",
      "John Doe                 : 3456789012, $  500\n",
      "Melody Pond              : aa7890123 , $ 3000\n",
      "Dean Winchester          : 56A89A123A, $ 1000\n",
      "Jodie Whittakerrrrrr     : 6789012345, $ 1500\n"
     ]
    }
   ],
   "source": [
    "def truncate_longname(employees):\n",
    "    for row in employees:\n",
    "        if len(row[0]) > 20:\n",
    "            row[0] = row[0][:20]\n",
    "\n",
    "clean_employees(employees, clean_name=truncate_longname)\n",
    "print_employees(employees)"
   ]
  },
  {
   "cell_type": "code",
   "execution_count": 10,
   "metadata": {},
   "outputs": [
    {
     "name": "stdout",
     "output_type": "stream",
     "text": [
      "John Smith               : 1234567890, $  100\n",
      "Jane Doe                 : 2345678901, $  200\n",
      "John Doe                 : 3456789012, $  500\n",
      "Melody Pond              : 007890123 , $ 3000\n",
      "Dean Winchester          : 5608901230, $ 1000\n",
      "Jodie Whittakerrrrrr     : 6789012345, $ 1500\n"
     ]
    }
   ],
   "source": [
    "def digit_2zero(employees):\n",
    "    for row in employees:\n",
    "        row[1] = ''.join(list(map(lambda x: x if x.isdigit() else '0', row[1])))\n",
    "\n",
    "clean_employees(employees, clean_phone=digit_2zero)\n",
    "print_employees(employees)"
   ]
  },
  {
   "cell_type": "code",
   "execution_count": 17,
   "metadata": {},
   "outputs": [
    {
     "name": "stdout",
     "output_type": "stream",
     "text": [
      "John Smith               : 1234567890, $  200\n",
      "Jane Doe                 : 2345678901, $  200\n",
      "                         : 3456789012, $  500\n",
      "Melody Pond              : aa7890123 , $ 2000\n",
      "Dean Winchester          : 56A89A123A, $ 1000\n",
      "Jodie Whittakerrrrrrrrrrrrrrrrrrrrrr: 6789012345, $ 1500\n"
     ]
    }
   ],
   "source": [
    "def fix_salary(employees):\n",
    "    for row in employees:\n",
    "        if row[2] < 200:\n",
    "            row[2] = 200\n",
    "        if row[2] > 2000:\n",
    "            row[2] = 2000\n",
    "\n",
    "clean_employees(employees, clean_salary=fix_salary)\n",
    "print_employees(employees)"
   ]
  },
  {
   "cell_type": "code",
   "execution_count": 22,
   "metadata": {},
   "outputs": [
    {
     "name": "stdout",
     "output_type": "stream",
     "text": [
      "John Smith               : 234567890 , $  200\n",
      "Jane Doe                 : 345678901 , $  200\n",
      "John Doe                 : 456789012 , $  500\n",
      "Melody Pond              : 07890123  , $ 2000\n",
      "Dean Winchester          : 668991233 , $ 1000\n",
      "Jodie Whittakerrrrrr     : 789012345 , $ 1500\n"
     ]
    }
   ],
   "source": [
    "def nondigit_2previous(employees):\n",
    "    for row in employees:\n",
    "        phone = [c for c in row[1]]\n",
    "        phone[0] = phone[0] if phone[0].isdigit() else '0'\n",
    "        row[1] = ''.join([phone[i] if phone[i].isdigit() else phone[i-1] for i in range(1, len(phone))])\n",
    "\n",
    "clean_employees(employees, clean_phone=nondigit_2previous,\n",
    "                clean_salary=fix_salary,\n",
    "                clean_name=truncate_longname)\n",
    "\n",
    "clean_employees(employees, clean_name=empty_2_default)\n",
    "print_employees(employees)"
   ]
  },
  {
   "cell_type": "code",
   "execution_count": 23,
   "metadata": {},
   "outputs": [],
   "source": [
    "# generator is considered as a function, but it returns an iterator\n",
    "my_list = [x for x in range(10)]            # list comprehension\n",
    "my_generator = (x for x in range(10))       # generator expression"
   ]
  },
  {
   "cell_type": "code",
   "execution_count": 25,
   "metadata": {},
   "outputs": [
    {
     "name": "stdout",
     "output_type": "stream",
     "text": [
      "45\n",
      "0\n"
     ]
    }
   ],
   "source": [
    "print(sum(my_list))\n",
    "print(sum(my_generator))"
   ]
  },
  {
   "cell_type": "code",
   "execution_count": 26,
   "metadata": {},
   "outputs": [
    {
     "name": "stdout",
     "output_type": "stream",
     "text": [
      "[72, 12, 3, 51, 100, 67, 90, 17, 44, 72, 23, 28, 73, 85, 28, 1, 88, 60, 63, 51]\n"
     ]
    }
   ],
   "source": [
    "import random as rd\n",
    "numbers = [rd.randint(1, 100) for _ in range(20)]\n",
    "print(numbers)"
   ]
  },
  {
   "cell_type": "code",
   "execution_count": 33,
   "metadata": {},
   "outputs": [],
   "source": [
    "# calculate sum of even numbers\n",
    "even_list = [x for x in numbers if x % 2 == 0]\n",
    "even_gen = (x for x in numbers if x % 2 == 0)"
   ]
  },
  {
   "cell_type": "code",
   "execution_count": 35,
   "metadata": {},
   "outputs": [
    {
     "name": "stdout",
     "output_type": "stream",
     "text": [
      "594\n",
      "0\n"
     ]
    }
   ],
   "source": [
    "print(sum(even_list))\n",
    "print(sum(even_gen))"
   ]
  },
  {
   "cell_type": "code",
   "execution_count": 29,
   "metadata": {},
   "outputs": [],
   "source": [
    "def my_filter(f, items):\n",
    "    for i in items:\n",
    "        if f(i):\n",
    "            yield i"
   ]
  },
  {
   "cell_type": "code",
   "execution_count": 31,
   "metadata": {},
   "outputs": [
    {
     "name": "stdout",
     "output_type": "stream",
     "text": [
      "594\n"
     ]
    }
   ],
   "source": [
    "sum_even = sum(my_filter(lambda x: x % 2 == 0, numbers))\n",
    "print(sum_even)"
   ]
  },
  {
   "cell_type": "code",
   "execution_count": 36,
   "metadata": {},
   "outputs": [
    {
     "name": "stdout",
     "output_type": "stream",
     "text": [
      "Total:  412.5\n"
     ]
    }
   ],
   "source": [
    "pizza_solds = [['John', '10:00', 15],\n",
    "               ['Paul', '11:00', 20],\n",
    "               ['George', '12:00', 18],\n",
    "               ['Ringo', '13:00', 22]]\n",
    "price = 5.5\n",
    "number_pizzas = (x[2] for x in pizza_solds)\n",
    "incomes = (n * price for n in number_pizzas)\n",
    "print('Total: ', sum(incomes))"
   ]
  },
  {
   "cell_type": "code",
   "execution_count": 1,
   "metadata": {},
   "outputs": [],
   "source": [
    "def rec_fibonacci(n):\n",
    "    if n < 2:\n",
    "        return n\n",
    "    return rec_fibonacci(n-1) + rec_fibonacci(n-2)"
   ]
  },
  {
   "cell_type": "code",
   "execution_count": 15,
   "metadata": {},
   "outputs": [
    {
     "name": "stdout",
     "output_type": "stream",
     "text": [
      "0 1 1 2 3 5 8 13 21 34 \n",
      "55 89 144 233 377 610 987 1597 2584 4181 \n",
      "6765 10946 17711 28657 46368 75025 121393 196418 317811 514229 \n"
     ]
    }
   ],
   "source": [
    "for i in range(30):\n",
    "    print(rec_fibonacci(i), end=' ')\n",
    "    if (i+1) % 10 == 0:\n",
    "        print()"
   ]
  },
  {
   "cell_type": "code",
   "execution_count": 9,
   "metadata": {},
   "outputs": [],
   "source": [
    "def fibo_gen():\n",
    "    a, b = 0, 1\n",
    "    while True:\n",
    "        yield a\n",
    "        a, b = b, a + b"
   ]
  },
  {
   "cell_type": "code",
   "execution_count": 12,
   "metadata": {},
   "outputs": [],
   "source": [
    "def fibonacci(n):\n",
    "    i = 0\n",
    "    for f in fibo_gen():\n",
    "        if i == n:\n",
    "            return f\n",
    "        i += 1"
   ]
  },
  {
   "cell_type": "code",
   "execution_count": 17,
   "metadata": {},
   "outputs": [
    {
     "name": "stdout",
     "output_type": "stream",
     "text": [
      "0 1 1 2 3 5 8 13 21 34 \n",
      "55 89 144 233 377 610 987 1597 2584 4181 \n",
      "6765 10946 17711 28657 46368 75025 121393 196418 317811 514229 \n",
      "832040 1346269 2178309 3524578 5702887 9227465 14930352 24157817 39088169 63245986 \n",
      "102334155 165580141 267914296 433494437 701408733 1134903170 1836311903 2971215073 4807526976 7778742049 \n",
      "12586269025 20365011074 32951280099 53316291173 86267571272 139583862445 225851433717 365435296162 591286729879 956722026041 \n",
      "1548008755920 2504730781961 4052739537881 6557470319842 10610209857723 17167680177565 27777890035288 44945570212853 72723460248141 117669030460994 \n",
      "190392490709135 308061521170129 498454011879264 806515533049393 1304969544928657 2111485077978050 3416454622906707 5527939700884757 8944394323791464 14472334024676221 \n",
      "23416728348467685 37889062373143906 61305790721611591 99194853094755497 160500643816367088 259695496911122585 420196140727489673 679891637638612258 1100087778366101931 1779979416004714189 \n",
      "2880067194370816120 4660046610375530309 7540113804746346429 12200160415121876738 19740274219868223167 31940434634990099905 51680708854858323072 83621143489848422977 135301852344706746049 218922995834555169026 \n"
     ]
    }
   ],
   "source": [
    "for i in range(100):\n",
    "    print(fibonacci(i), end=' ')\n",
    "    if (i+1) % 10 == 0:\n",
    "        print()"
   ]
  }
 ],
 "metadata": {
  "kernelspec": {
   "display_name": "Python 3.9.12 64-bit",
   "language": "python",
   "name": "python3"
  },
  "language_info": {
   "codemirror_mode": {
    "name": "ipython",
    "version": 3
   },
   "file_extension": ".py",
   "mimetype": "text/x-python",
   "name": "python",
   "nbconvert_exporter": "python",
   "pygments_lexer": "ipython3",
   "version": "3.9.12"
  },
  "orig_nbformat": 4,
  "vscode": {
   "interpreter": {
    "hash": "aee8b7b246df8f9039afb4144a1f6fd8d2ca17a180786b69acc140d282b71a49"
   }
  }
 },
 "nbformat": 4,
 "nbformat_minor": 2
}
