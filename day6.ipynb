{
 "cells": [
  {
   "cell_type": "code",
   "execution_count": 2,
   "metadata": {},
   "outputs": [],
   "source": [
    "def my_max(a, b):\n",
    "    if a > b:\n",
    "        return a\n",
    "    return b"
   ]
  },
  {
   "cell_type": "code",
   "execution_count": 5,
   "metadata": {},
   "outputs": [
    {
     "name": "stdout",
     "output_type": "stream",
     "text": [
      "7\n",
      "b\n",
      "5.0\n"
     ]
    }
   ],
   "source": [
    "print(my_max(5, 7)) # work with integers\n",
    "print(my_max('a', 'b')) # work with strings\n",
    "print(my_max(5.0, 4.2)) # work with floats"
   ]
  },
  {
   "cell_type": "code",
   "execution_count": 8,
   "metadata": {},
   "outputs": [
    {
     "name": "stdout",
     "output_type": "stream",
     "text": [
      "5\n"
     ]
    }
   ],
   "source": [
    "print(my_max(5.0, 5)) "
   ]
  },
  {
   "cell_type": "code",
   "execution_count": 9,
   "metadata": {},
   "outputs": [],
   "source": [
    "# pass by value vs pass by reference\n",
    "def double(x):\n",
    "    x = x * 2\n",
    "    print(x)"
   ]
  },
  {
   "cell_type": "code",
   "execution_count": 11,
   "metadata": {},
   "outputs": [
    {
     "name": "stdout",
     "output_type": "stream",
     "text": [
      "12\n",
      "6\n"
     ]
    }
   ],
   "source": [
    "x = 6\n",
    "double(x) # => 12\n",
    "print(x)  # => 6"
   ]
  },
  {
   "cell_type": "code",
   "execution_count": 12,
   "metadata": {},
   "outputs": [
    {
     "name": "stdout",
     "output_type": "stream",
     "text": [
      "[2 4 6]\n",
      "[1 2 3]\n"
     ]
    }
   ],
   "source": [
    "import numpy as np\n",
    "x = np.array([1, 2, 3])\n",
    "double(x) # => [2 4 6]\n",
    "print(x)  # => [1 2 3]"
   ]
  },
  {
   "cell_type": "code",
   "execution_count": 13,
   "metadata": {},
   "outputs": [],
   "source": [
    "def double_list(x):\n",
    "    for i in range(len(x)):\n",
    "        x[i] = x[i] * 2\n",
    "    print(x)"
   ]
  },
  {
   "cell_type": "code",
   "execution_count": null,
   "metadata": {},
   "outputs": [],
   "source": [
    "x = np.array([1, 2, 3])\n",
    "double_list(x) # => [2 4 6]\n",
    "print(x)  # => [2 4 6]"
   ]
  },
  {
   "cell_type": "code",
   "execution_count": 14,
   "metadata": {},
   "outputs": [
    {
     "name": "stdout",
     "output_type": "stream",
     "text": [
      "4*5*6\n"
     ]
    }
   ],
   "source": [
    "print(4, 5, 6, sep='*')"
   ]
  },
  {
   "cell_type": "code",
   "execution_count": 25,
   "metadata": {},
   "outputs": [],
   "source": [
    "def my_sort(a, asc=True):\n",
    "    n = len(a)\n",
    "    if asc:\n",
    "        for i in range(n - 1):\n",
    "            for j in range(i + 1, n):\n",
    "                if a[j] < a[i]:\n",
    "                    a[i], a[j] = a[j], a[i]\n",
    "    else:\n",
    "        for i in range(n - 1):\n",
    "            for j in range(i + 1, n):\n",
    "                if a[j] > a[i]:\n",
    "                    a[i], a[j] = a[j], a[i]"
   ]
  },
  {
   "cell_type": "code",
   "execution_count": 28,
   "metadata": {},
   "outputs": [
    {
     "name": "stdout",
     "output_type": "stream",
     "text": [
      "[46, 22, 56, 13, 75, 94, 97, 34, 21, 93]\n",
      "[13, 21, 22, 34, 46, 56, 75, 93, 94, 97]\n",
      "[97, 94, 93, 75, 56, 46, 34, 22, 21, 13]\n"
     ]
    }
   ],
   "source": [
    "numbers = [np.random.randint(0, 100) for i in range(10)]\n",
    "print(numbers)\n",
    "my_sort(numbers)\n",
    "print(numbers)\n",
    "my_sort(numbers, asc=False)\n",
    "print(numbers)"
   ]
  },
  {
   "cell_type": "code",
   "execution_count": 29,
   "metadata": {},
   "outputs": [],
   "source": [
    "def demo_keyword(x, n=10, s='hello'):\n",
    "    print('x =', x)\n",
    "    print('n =', n)\n",
    "    print('s =', s)"
   ]
  },
  {
   "cell_type": "code",
   "execution_count": 30,
   "metadata": {},
   "outputs": [
    {
     "name": "stdout",
     "output_type": "stream",
     "text": [
      "x = 5\n",
      "n = 10\n",
      "s = hello\n"
     ]
    }
   ],
   "source": [
    "demo_keyword(5)"
   ]
  },
  {
   "cell_type": "code",
   "execution_count": 31,
   "metadata": {},
   "outputs": [
    {
     "name": "stdout",
     "output_type": "stream",
     "text": [
      "x = 5\n",
      "n = hello\n",
      "s = hello\n"
     ]
    }
   ],
   "source": [
    "demo_keyword(5, n='hello')"
   ]
  },
  {
   "cell_type": "code",
   "execution_count": 32,
   "metadata": {},
   "outputs": [
    {
     "name": "stdout",
     "output_type": "stream",
     "text": [
      "x = 5\n",
      "n = hello\n",
      "s = 10\n"
     ]
    }
   ],
   "source": [
    "demo_keyword(5, n='hello', s=10)"
   ]
  },
  {
   "cell_type": "code",
   "execution_count": 34,
   "metadata": {},
   "outputs": [
    {
     "name": "stdout",
     "output_type": "stream",
     "text": [
      "x = hi\n",
      "n = 100\n",
      "s = hello python\n"
     ]
    }
   ],
   "source": [
    "demo_keyword('hi', s='hello python', n=100)"
   ]
  },
  {
   "cell_type": "code",
   "execution_count": 37,
   "metadata": {},
   "outputs": [
    {
     "name": "stdout",
     "output_type": "stream",
     "text": [
      "3 4 5\n",
      "\n",
      "10\n"
     ]
    }
   ],
   "source": [
    "print(3, 4, 5)\n",
    "print()\n",
    "print(10)"
   ]
  },
  {
   "cell_type": "code",
   "execution_count": 46,
   "metadata": {},
   "outputs": [],
   "source": [
    "def my_sum(*items):\n",
    "    print(type(items))\n",
    "    s = 0\n",
    "    for i in items:\n",
    "        s += i\n",
    "    return s"
   ]
  },
  {
   "cell_type": "code",
   "execution_count": 47,
   "metadata": {},
   "outputs": [
    {
     "name": "stdout",
     "output_type": "stream",
     "text": [
      "<class 'tuple'>\n",
      "15.7\n"
     ]
    }
   ],
   "source": [
    "print(my_sum(1, 2, 3, 4.7, 5))"
   ]
  },
  {
   "cell_type": "code",
   "execution_count": 48,
   "metadata": {},
   "outputs": [],
   "source": [
    "def min_max(a, b):\n",
    "    if a > b:\n",
    "        return b, a\n",
    "    return a, b"
   ]
  },
  {
   "cell_type": "code",
   "execution_count": 50,
   "metadata": {},
   "outputs": [
    {
     "name": "stdout",
     "output_type": "stream",
     "text": [
      "7 50\n"
     ]
    }
   ],
   "source": [
    "mi, ma = min_max(50, 7)\n",
    "print(mi, ma)"
   ]
  },
  {
   "cell_type": "code",
   "execution_count": 51,
   "metadata": {},
   "outputs": [
    {
     "name": "stdout",
     "output_type": "stream",
     "text": [
      "50\n"
     ]
    }
   ],
   "source": [
    "_, ma = min_max(50, 7)\n",
    "print(ma)"
   ]
  },
  {
   "cell_type": "code",
   "execution_count": 52,
   "metadata": {},
   "outputs": [
    {
     "name": "stdout",
     "output_type": "stream",
     "text": [
      "(7, 50)\n"
     ]
    }
   ],
   "source": [
    "m = min_max(50, 7)\n",
    "print(m)"
   ]
  },
  {
   "cell_type": "code",
   "execution_count": 53,
   "metadata": {},
   "outputs": [],
   "source": [
    "# search for x in items, return True if found, False otherwise. If abs = True, search for |x|\n",
    "def search(items, x, abs=False):\n",
    "    if abs == False:\n",
    "        for i in items:\n",
    "            if x == i:\n",
    "                return True\n",
    "        return False\n",
    "    else:\n",
    "        for i in items:\n",
    "            if x == i or x == -i:\n",
    "                return True\n",
    "        return False"
   ]
  },
  {
   "cell_type": "code",
   "execution_count": 57,
   "metadata": {},
   "outputs": [
    {
     "name": "stdout",
     "output_type": "stream",
     "text": [
      "True\n",
      "False\n",
      "True\n"
     ]
    }
   ],
   "source": [
    "print(search([1, 2, -3, 4, 5], -3))\n",
    "print(search([1, 2, -3, 4, 5], 3))\n",
    "print(search([1, 2, -3, 4, 5], -3, abs=True))"
   ]
  },
  {
   "cell_type": "code",
   "execution_count": null,
   "metadata": {},
   "outputs": [],
   "source": [
    "def search(items, x, abs=False):\n",
    "    if abs == False:\n",
    "        return x in items\n",
    "    else:\n",
    "        return x in items or -x in items"
   ]
  },
  {
   "cell_type": "code",
   "execution_count": 58,
   "metadata": {},
   "outputs": [],
   "source": [
    "def my_max(items, key=None):\n",
    "    if key is None:\n",
    "        m = items[0]\n",
    "        for i in items:\n",
    "            if i > m:\n",
    "                m = i\n",
    "        return m\n",
    "    else:\n",
    "        m = items[0]\n",
    "        for i in items:\n",
    "            if key(i) > key(m):\n",
    "                m = i\n",
    "        return m"
   ]
  },
  {
   "cell_type": "code",
   "execution_count": 62,
   "metadata": {},
   "outputs": [
    {
     "name": "stdout",
     "output_type": "stream",
     "text": [
      "Peter Dinglas\n",
      "Mary Antoanette\n"
     ]
    }
   ],
   "source": [
    "names = ['John Lennon', 'Mary Antoanette', 'Peter Dinglas', 'Alice Cooper']\n",
    "m = my_max(names)\n",
    "print(m)\n",
    "m = my_max(names, key=len)\n",
    "print(m)"
   ]
  },
  {
   "cell_type": "code",
   "execution_count": 63,
   "metadata": {},
   "outputs": [
    {
     "name": "stdout",
     "output_type": "stream",
     "text": [
      "John Lennon\n"
     ]
    }
   ],
   "source": [
    "# Find name that has max last name\n",
    "def last_name(name):\n",
    "    return name.split()[-1]\n",
    "\n",
    "m = my_max(names, key=last_name)\n",
    "print(m)"
   ]
  },
  {
   "cell_type": "code",
   "execution_count": 64,
   "metadata": {},
   "outputs": [
    {
     "name": "stdout",
     "output_type": "stream",
     "text": [
      "Mary Antoanette\n"
     ]
    }
   ],
   "source": [
    "# Find name that has max number of vowels\n",
    "def vowel_count(name):\n",
    "    vowels = 'aeiou'\n",
    "    count = 0\n",
    "    for c in name.lower():\n",
    "        if c in vowels:\n",
    "            count += 1\n",
    "    return count\n",
    "\n",
    "m = my_max(names, key=vowel_count)\n",
    "print(m)"
   ]
  },
  {
   "cell_type": "code",
   "execution_count": 66,
   "metadata": {},
   "outputs": [
    {
     "name": "stdout",
     "output_type": "stream",
     "text": [
      "[97, 94, 93, 75, 56, 46, 34, 22, 21, 13]\n",
      "97\n"
     ]
    }
   ],
   "source": [
    "print(numbers)\n",
    "print(my_max(numbers))"
   ]
  },
  {
   "cell_type": "code",
   "execution_count": 69,
   "metadata": {},
   "outputs": [
    {
     "name": "stdout",
     "output_type": "stream",
     "text": [
      "[86, 64, 57, 52, 31, 85, 93, 67, 55, 77]\n",
      "57\n"
     ]
    }
   ],
   "source": [
    "# Find number that has max last digit\n",
    "numbers = [np.random.randint(10, 100) for i in range(10)]\n",
    "print(numbers)\n",
    "def digit(n):\n",
    "    return n % 10\n",
    "\n",
    "print(my_max(numbers, key=digit))"
   ]
  },
  {
   "cell_type": "code",
   "execution_count": 74,
   "metadata": {},
   "outputs": [
    {
     "name": "stdout",
     "output_type": "stream",
     "text": [
      "77\n",
      "[76, 23, -66, 90, -97, -22, -79, -99, 80, 88]\n",
      "-99\n"
     ]
    }
   ],
   "source": [
    "# Find number that has max sum of digits\n",
    "def sum_digits(n):\n",
    "    return n // 10 + n % 10\n",
    "\n",
    "print(my_max(numbers, key=sum_digits))\n",
    "# Find number that has max absolute value\n",
    "numbers = [np.random.randint(-100, 100) for i in range(10)]\n",
    "print(numbers)\n",
    "print(my_max(numbers, key=abs))"
   ]
  }
 ],
 "metadata": {
  "kernelspec": {
   "display_name": "Python 3.9.12 64-bit",
   "language": "python",
   "name": "python3"
  },
  "language_info": {
   "codemirror_mode": {
    "name": "ipython",
    "version": 3
   },
   "file_extension": ".py",
   "mimetype": "text/x-python",
   "name": "python",
   "nbconvert_exporter": "python",
   "pygments_lexer": "ipython3",
   "version": "3.9.12"
  },
  "orig_nbformat": 4,
  "vscode": {
   "interpreter": {
    "hash": "aee8b7b246df8f9039afb4144a1f6fd8d2ca17a180786b69acc140d282b71a49"
   }
  }
 },
 "nbformat": 4,
 "nbformat_minor": 2
}
