{
 "cells": [
  {
   "cell_type": "code",
   "execution_count": 1,
   "metadata": {},
   "outputs": [
    {
     "name": "stdout",
     "output_type": "stream",
     "text": [
      "Hello Jupyter\n"
     ]
    }
   ],
   "source": [
    "print('Hello Jupyter')"
   ]
  },
  {
   "cell_type": "code",
   "execution_count": 2,
   "metadata": {},
   "outputs": [
    {
     "name": "stdout",
     "output_type": "stream",
     "text": [
      "Another hello\n"
     ]
    }
   ],
   "source": [
    "print('Another hello')"
   ]
  },
  {
   "cell_type": "code",
   "execution_count": 8,
   "metadata": {},
   "outputs": [
    {
     "name": "stdout",
     "output_type": "stream",
     "text": [
      "5 <class 'int'>\n",
      "5.0 <class 'float'>\n",
      "5 <class 'str'>\n",
      "[5] <class 'list'>\n",
      "True <class 'bool'>\n"
     ]
    }
   ],
   "source": [
    "a = 5\n",
    "print(a, type(a))\n",
    "a = 5.0\n",
    "print(a, type(a))\n",
    "a = '5'\n",
    "print(a, type(a))\n",
    "a = [5]\n",
    "print(a, type(a))\n",
    "a = True\n",
    "print(a, type(a))"
   ]
  },
  {
   "cell_type": "code",
   "execution_count": 10,
   "metadata": {},
   "outputs": [
    {
     "name": "stdout",
     "output_type": "stream",
     "text": [
      "199\n"
     ]
    }
   ],
   "source": [
    "a = int(input())\n",
    "print(a)"
   ]
  },
  {
   "cell_type": "code",
   "execution_count": 11,
   "metadata": {},
   "outputs": [
    {
     "name": "stdout",
     "output_type": "stream",
     "text": [
      "Max is 10\n"
     ]
    }
   ],
   "source": [
    "# Conditional statements\n",
    "# syntax: if <condition>:\n",
    "\n",
    "a = int(input('Enter a: '))\n",
    "b = int(input('Enter b: '))\n",
    "if a > b:\n",
    "    m = a\n",
    "else:\n",
    "    m = b\n",
    "print('Max is', m)"
   ]
  },
  {
   "cell_type": "code",
   "execution_count": 12,
   "metadata": {},
   "outputs": [
    {
     "name": "stdout",
     "output_type": "stream",
     "text": [
      "Max is 10\n"
     ]
    }
   ],
   "source": [
    "print('Max is', a if a > b else b)"
   ]
  },
  {
   "cell_type": "code",
   "execution_count": 17,
   "metadata": {},
   "outputs": [
    {
     "name": "stdout",
     "output_type": "stream",
     "text": [
      "4, 5, 6 are sides of a triangle\n",
      "Area = 9.92\n"
     ]
    }
   ],
   "source": [
    "a = int(input('Enter a: '))\n",
    "b = int(input('Enter b: '))\n",
    "c = int(input('Enter c: '))\n",
    "\n",
    "if a <= 0 or b <= 0 or c <= 0:\n",
    "    print('Negative sides are not allowed')\n",
    "elif a + b <= c or b + c <= a or c + a <= b:\n",
    "    print('Sum of any two sides should be greater than the third side')\n",
    "else:\n",
    "    print(f'{a}, {b}, {c} are sides of a triangle')\n",
    "    p = (a + b + c) / 2\n",
    "    s = (p * (p - a) * (p - b) * (p - c)) ** 0.5\n",
    "    print('Area = {:.2f}'.format(s))"
   ]
  },
  {
   "cell_type": "code",
   "execution_count": 23,
   "metadata": {},
   "outputs": [
    {
     "name": "stdout",
     "output_type": "stream",
     "text": [
      "|100       |\n",
      "|      3.14|\n",
      "|    hello python    |\n",
      "100              3.14     hello python    \n"
     ]
    }
   ],
   "source": [
    "a = 100\n",
    "b = 3.1415\n",
    "s = 'hello python'\n",
    "\n",
    "# print integer, left align, 10 spaces\n",
    "print('|{:<10d}|'.format(a))\n",
    "# print float, right align, 10 spaces, 2 decimal places\n",
    "print('|{:>10.2f}|'.format(b))\n",
    "# print string, center align, 20 spaces\n",
    "print('|{:^20s}|'.format(s))\n",
    "print('{:<10d} {:>10.2f} {:^20s}'.format(a, b, s))"
   ]
  },
  {
   "cell_type": "code",
   "execution_count": null,
   "metadata": {},
   "outputs": [],
   "source": [
    "# Write a program that asks the user to enter 3 grades (english, math, science)\n",
    "# calculate average and print the grades along with the average"
   ]
  },
  {
   "cell_type": "code",
   "execution_count": null,
   "metadata": {},
   "outputs": [],
   "source": [
    "english_grade = float(input('Enter english grade: '))\n",
    "math_grade = float(input('Enter math grade: '))\n",
    "scicence_grade = float(input('Enter science grade: '))\n",
    "average_grade = (english_grade + math_grade + scicence_grade) / 3\n",
    "\n",
    "if average_grade >= 8.0:\n",
    "    rank = 'Distinction'\n",
    "elif average_grade >= 6.0:\n",
    "    rank = 'Merit'\n",
    "elif average_grade >= 4.0:\n",
    "    rank = 'Pass'\n",
    "else:\n",
    "    rank = 'Fail'"
   ]
  },
  {
   "cell_type": "code",
   "execution_count": 26,
   "metadata": {},
   "outputs": [
    {
     "name": "stdout",
     "output_type": "stream",
     "text": [
      "English   :            8.0\n",
      "Math      :            7.5\n",
      "Science   :            8.5\n",
      "Average   :           8.00\n",
      "Rank      :    Distinction\n"
     ]
    }
   ],
   "source": [
    "print('{:<10s}:{:>15.1f}'.format('English', english_grade))\n",
    "print('{:<10s}:{:>15.1f}'.format('Math', math_grade))\n",
    "print('{:<10s}:{:>15.1f}'.format('Science', scicence_grade))\n",
    "print('{:<10s}:{:>15.2f}'.format('Average', average_grade))\n",
    "print('{:<10s}:{:>15s}'.format('Rank', rank))"
   ]
  },
  {
   "cell_type": "code",
   "execution_count": 28,
   "metadata": {},
   "outputs": [
    {
     "name": "stdout",
     "output_type": "stream",
     "text": [
      "0 1 2 3 4 5 6 7 8 9 "
     ]
    }
   ],
   "source": [
    "for i in range(10): # for (int i = 0; i < 10; i++)\n",
    "    print(i, end=' ')"
   ]
  },
  {
   "cell_type": "code",
   "execution_count": 29,
   "metadata": {},
   "outputs": [
    {
     "name": "stdout",
     "output_type": "stream",
     "text": [
      "1 3 5 7 9 11 13 15 17 19 "
     ]
    }
   ],
   "source": [
    "for i in range(1, 20, 2): # for (int i = 1; i < 20; i += 2)\n",
    "    print(i, end=' ')"
   ]
  },
  {
   "cell_type": "code",
   "execution_count": 30,
   "metadata": {},
   "outputs": [
    {
     "name": "stdout",
     "output_type": "stream",
     "text": [
      "10 9 8 7 6 5 4 3 2 1 "
     ]
    }
   ],
   "source": [
    "for i in range(10, 0, -1): # for (int i = 10; i > 0; i--)\n",
    "    print(i, end=' ')"
   ]
  },
  {
   "cell_type": "code",
   "execution_count": null,
   "metadata": {},
   "outputs": [],
   "source": [
    "n = 5\n",
    "# Enter n, calculate 1 + 2 + 3 + ... + n\n",
    "s = 0 # sum\n",
    "for i in range(1, n+1):\n",
    "    s = s + i\n",
    "print(f'Sum from 1 to {n} is {s}')\n",
    "# Enter n, calculate even numbers from 1 to n (inclusive)\n",
    "s = 0\n",
    "for i in range(2, n+1, 2):\n",
    "    s = s + i\n",
    "print(f'Sum of even numbers from 1 to {n} is {s}')\n",
    "# Enter n, print triangle of stars\n",
    "# *\n",
    "# * *\n",
    "# * * *\n",
    "# * * * *\n",
    "for i in range(1, n+1):\n",
    "    for j in range(1, i+1):\n",
    "        print('*', end=' ')\n",
    "    print()\n"
   ]
  },
  {
   "cell_type": "code",
   "execution_count": null,
   "metadata": {},
   "outputs": [],
   "source": [
    "# Enter n, print triangle of numbers\n",
    "# 1\n",
    "# 1 2\n",
    "# 1 2 3\n",
    "# 1 2 3 4\n",
    "for i in range(1, n+1):\n",
    "    for j in range(1, i+1):\n",
    "        print(j, end=' ')\n",
    "    print()"
   ]
  },
  {
   "cell_type": "code",
   "execution_count": 38,
   "metadata": {},
   "outputs": [
    {
     "name": "stdout",
     "output_type": "stream",
     "text": [
      "* \n",
      "* * \n",
      "* * * \n",
      "* * * * \n",
      "* * * * * \n"
     ]
    }
   ],
   "source": [
    "for i in range(1, n+1):\n",
    "    print('* ' * i)"
   ]
  },
  {
   "cell_type": "code",
   "execution_count": null,
   "metadata": {},
   "outputs": [],
   "source": [
    "s = 0\n",
    "n = 1\n",
    "while n > 0:\n",
    "    n = int(input('Enter n: '))\n",
    "    if n > 0:\n",
    "        s = s + n\n",
    "    else:\n",
    "        print('Stop here!')\n",
    "\n",
    "print('Sum = ', s)"
   ]
  },
  {
   "cell_type": "code",
   "execution_count": null,
   "metadata": {},
   "outputs": [],
   "source": [
    "TICKET_PRICE = 2.5\n",
    "print(f'Movie ticket: ${TICKET_PRICE:.2f}')\n",
    "n_tickets = int(input('Enter number of tickets: '))\n",
    "\n",
    "payment = TICKET_PRICE * n_tickets\n",
    "print(f'Payment: ${payment:.2f}')\n",
    "while payment > 0:\n",
    "    coin = int(input('Insert coin: '))\n",
    "    if coin not in (1, 2, 5):\n",
    "        print('Invalid coin')\n",
    "        continue\n",
    "    \n",
    "    payment = payment - coin\n",
    "    if payment > 0:\n",
    "        print(f'To pay: ${payment:.2f}')\n",
    "    else:\n",
    "        print(f'Change: ${-payment:.2f}')\n"
   ]
  }
 ],
 "metadata": {
  "kernelspec": {
   "display_name": "Python 3.9.12 64-bit",
   "language": "python",
   "name": "python3"
  },
  "language_info": {
   "codemirror_mode": {
    "name": "ipython",
    "version": 3
   },
   "file_extension": ".py",
   "mimetype": "text/x-python",
   "name": "python",
   "nbconvert_exporter": "python",
   "pygments_lexer": "ipython3",
   "version": "3.9.12"
  },
  "orig_nbformat": 4,
  "vscode": {
   "interpreter": {
    "hash": "aee8b7b246df8f9039afb4144a1f6fd8d2ca17a180786b69acc140d282b71a49"
   }
  }
 },
 "nbformat": 4,
 "nbformat_minor": 2
}
