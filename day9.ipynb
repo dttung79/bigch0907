{
 "cells": [
  {
   "cell_type": "code",
   "execution_count": 7,
   "metadata": {},
   "outputs": [
    {
     "name": "stdout",
     "output_type": "stream",
     "text": [
      "[\"print('Hello Python')\\n\", \"a = int(input('Enter a: '))\\n\", 'print(a)']\n",
      "print('Hello Python')\n",
      "a = int(input('Enter a: '))\n",
      "print(a)\n"
     ]
    }
   ],
   "source": [
    "f = open('hello.py', 'r')\n",
    "content = f.readlines()\n",
    "print(content)\n",
    "\n",
    "for line in content:\n",
    "    print(line.strip())\n",
    "#f.close()"
   ]
  },
  {
   "cell_type": "code",
   "execution_count": 9,
   "metadata": {},
   "outputs": [
    {
     "name": "stdout",
     "output_type": "stream",
     "text": [
      "[\"print('Hello Python')\\n\", \"a = int(input('Enter a: '))\\n\", 'print(a)']\n"
     ]
    }
   ],
   "source": [
    "with open('hello.py', 'r') as f:\n",
    "    content = f.readlines()\n",
    "    print(content)"
   ]
  },
  {
   "cell_type": "code",
   "execution_count": 10,
   "metadata": {},
   "outputs": [
    {
     "name": "stdout",
     "output_type": "stream",
     "text": [
      "The Triboro Bridge and Tunnel Authority\n",
      "The Metropolitan Transit Authority\n",
      "The Port Authority of New York and New Jersey\n"
     ]
    }
   ],
   "source": [
    "# TODO: read agencies.txt, find all agencies that has Authority in name.\n",
    "with open('Datasets/agencies.txt', 'r') as f:\n",
    "    content = f.readlines()\n",
    "    for line in content:\n",
    "        if 'Authority' in line:\n",
    "            print(line.strip())"
   ]
  },
  {
   "cell_type": "code",
   "execution_count": 15,
   "metadata": {},
   "outputs": [
    {
     "name": "stdout",
     "output_type": "stream",
     "text": [
      "The Triboro Bridge and Tunnel Authority\n",
      "The Metropolitan Transit Authority\n",
      "The Port Authority of New York and New Jersey\n"
     ]
    }
   ],
   "source": [
    "# read agencies line by line\n",
    "try: \n",
    "    f = open('Datasets/agencies.txt', 'r')\n",
    "    line = f.readline()\n",
    "    while line:\n",
    "        if 'Authority' in line:\n",
    "            print(line.strip())\n",
    "        line = f.readline()\n",
    "    f.close()\n",
    "except FileNotFoundError:\n",
    "    print('File not found')"
   ]
  }
 ],
 "metadata": {
  "kernelspec": {
   "display_name": "Python 3.9.12 64-bit",
   "language": "python",
   "name": "python3"
  },
  "language_info": {
   "codemirror_mode": {
    "name": "ipython",
    "version": 3
   },
   "file_extension": ".py",
   "mimetype": "text/x-python",
   "name": "python",
   "nbconvert_exporter": "python",
   "pygments_lexer": "ipython3",
   "version": "3.9.12"
  },
  "orig_nbformat": 4,
  "vscode": {
   "interpreter": {
    "hash": "aee8b7b246df8f9039afb4144a1f6fd8d2ca17a180786b69acc140d282b71a49"
   }
  }
 },
 "nbformat": 4,
 "nbformat_minor": 2
}
