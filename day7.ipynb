{
 "cells": [
  {
   "cell_type": "code",
   "execution_count": 1,
   "metadata": {},
   "outputs": [],
   "source": [
    "def my_sort(a, compare=lambda x, y: x < y):\n",
    "    n = len(a)\n",
    "    for i in range(n-1):\n",
    "        for j in range(i+1, n):\n",
    "            if compare(a[j], a[i]):\n",
    "                a[i], a[j] = a[j], a[i]"
   ]
  },
  {
   "cell_type": "code",
   "execution_count": 9,
   "metadata": {},
   "outputs": [
    {
     "name": "stdout",
     "output_type": "stream",
     "text": [
      "[81, 20, 73, 52, 42, 15, 96, 31, 76, 82]\n",
      "[15, 20, 31, 42, 52, 73, 76, 81, 82, 96]\n",
      "[96, 82, 81, 76, 73, 52, 42, 31, 20, 15]\n"
     ]
    }
   ],
   "source": [
    "import random as rd\n",
    "numbers = [rd.randint(10, 99) for _ in range(10)]\n",
    "print(numbers)\n",
    "my_sort(numbers)\n",
    "print(numbers)\n",
    "greater = lambda x, y: x > y\n",
    "my_sort(numbers, compare=greater)\n",
    "print(numbers)"
   ]
  },
  {
   "cell_type": "code",
   "execution_count": null,
   "metadata": {},
   "outputs": [],
   "source": [
    "# sort ascending by the last digit\n",
    "my_sort(numbers, compare=lambda x, y: x % 10 < y % 10)\n",
    "print(numbers)\n",
    "# sort descending by the last digit\n",
    "my_sort(numbers, compare=lambda x, y: x % 10 > y % 10)\n",
    "print(numbers)\n",
    "# sort ascending by sum of 2 digits\n",
    "my_sort(numbers, compare=lambda x, y: x // 10 + x % 10 < y // 10 + y % 10)\n",
    "print(numbers)\n",
    "# sort descending by sum of 2 digits\n",
    "my_sort(numbers, compare=lambda x, y: x // 10 + x % 10 > y // 10 + y % 10)\n",
    "print(numbers)"
   ]
  },
  {
   "cell_type": "code",
   "execution_count": null,
   "metadata": {},
   "outputs": [],
   "source": [
    "names = ['Tom Hanks', 'Brad Pitt', 'Angelina Jolie', 'Leonardo DiCaprio', 'Jennifer Aniston']\n",
    "# sort names ascending by alphabet\n",
    "my_sort(names)\n",
    "print(names)\n",
    "# sort names descending by alphabet\n",
    "my_sort(names, compare=greater)\n",
    "print(names)\n",
    "# sort names ascending by length of name\n",
    "my_sort(names, compare=lambda x, y: len(x) < len(y))\n",
    "print(names)\n",
    "# sort names descending by length of name\n",
    "my_sort(names, compare=lambda x, y: len(x) > len(y))\n",
    "print(names)\n",
    "# sort names ascending by last name\n",
    "my_sort(names, compare=lambda x, y: x.split()[-1] < y.split()[-1])\n",
    "print(names)\n",
    "# sort names descending by last name\n",
    "my_sort(names, compare=lambda x, y: x.split()[-1] > y.split()[-1])\n",
    "print(names)"
   ]
  },
  {
   "cell_type": "code",
   "execution_count": 15,
   "metadata": {},
   "outputs": [
    {
     "name": "stdout",
     "output_type": "stream",
     "text": [
      "[-28  17 -39  58  -3 -64 -28 -15 -50  69 -39 -35 -84  76  64]\n"
     ]
    }
   ],
   "source": [
    "# filter syntax: filter(function, iterable)\n",
    "import numpy as np\n",
    "numbers = np.random.randint(-99, 99, 15)\n",
    "print(numbers)"
   ]
  },
  {
   "cell_type": "code",
   "execution_count": 24,
   "metadata": {},
   "outputs": [
    {
     "name": "stdout",
     "output_type": "stream",
     "text": [
      "-385\n",
      "-385\n",
      "-385\n",
      "<filter object at 0x110ff9520>\n",
      "-385\n"
     ]
    }
   ],
   "source": [
    "# calculate sum of negative numbers using list comprehension\n",
    "negatives = [x for x in numbers if x < 0]\n",
    "print(sum(negatives))\n",
    "# calculate sum of negative numbers using boolean indexing\n",
    "negatives = numbers[numbers < 0]\n",
    "print(sum(negatives))\n",
    "# calculate sum of negative numbers using for loop\n",
    "negatives = []\n",
    "s = 0\n",
    "for x in numbers:\n",
    "    if x < 0:\n",
    "        s += x\n",
    "print(s)\n",
    "# calculate sum of negative numbers using filter function\n",
    "negatives = filter(lambda x: x < 0, numbers)\n",
    "print(negatives)\n",
    "print(sum(negatives)) # 0 because no more elements in negatives"
   ]
  },
  {
   "cell_type": "code",
   "execution_count": 28,
   "metadata": {},
   "outputs": [],
   "source": [
    "devices = {'iphone 14': 999,'samsung galaxy 13': 800, 'xiaomi 11 pro': 500, 'iphone 13' : 899,\n",
    "            'iphone 11': 799, 'oppo v5': 450, 'bphone 2': 300, 'vin smart': 200}"
   ]
  },
  {
   "cell_type": "code",
   "execution_count": 34,
   "metadata": {},
   "outputs": [
    {
     "name": "stdout",
     "output_type": "stream",
     "text": [
      "iphone 14: $999\n",
      "iphone 13: $899\n",
      "iphone 11: $799\n",
      "Average price: $899.0\n"
     ]
    }
   ],
   "source": [
    "#print(devices.items())\n",
    "# find iphone devices using filter function\n",
    "iphones = filter(lambda x: 'iphone' in x[0], devices.items())\n",
    "# calculate averge price of iphones\n",
    "count = 0\n",
    "sum_price = 0\n",
    "for phone in iphones:\n",
    "    print(f'{phone[0]}: ${phone[1]}')\n",
    "    count += 1\n",
    "    sum_price += phone[1]\n",
    "print(f'Average price: ${sum_price / count}')"
   ]
  },
  {
   "cell_type": "code",
   "execution_count": 36,
   "metadata": {},
   "outputs": [
    {
     "name": "stdout",
     "output_type": "stream",
     "text": [
      "['Hanks', 'Pitt', 'Jolie', 'DiCaprio', 'Aniston']\n",
      "['Hanks', 'Pitt', 'Jolie', 'DiCaprio', 'Aniston']\n"
     ]
    }
   ],
   "source": [
    "# map function syntax: map(function, iterable)\n",
    "names = ['Tom Hanks', 'Brad Pitt', 'Angelina Jolie', 'Leonardo DiCaprio', 'Jennifer Aniston']\n",
    "# get last names using list comprehension\n",
    "last_names = [n.split()[-1] for n in names]\n",
    "print(last_names)\n",
    "# get last names using map function\n",
    "last_names = list(map(lambda x: x.split()[-1], names))\n",
    "print(last_names)"
   ]
  },
  {
   "cell_type": "code",
   "execution_count": 39,
   "metadata": {},
   "outputs": [
    {
     "name": "stdout",
     "output_type": "stream",
     "text": [
      "Sum of all prices: $4947\n",
      "Sum of all iphone prices: $2697\n"
     ]
    }
   ],
   "source": [
    "# print sum of all prices\n",
    "prices = map(lambda x: x[1], devices.items())\n",
    "print(f'Sum of all prices: ${sum(prices)}')\n",
    "\n",
    "# print sum of all iphone prices\n",
    "iphones = filter(lambda x: 'iphone' in x[0], devices.items())\n",
    "iphone_prices = map(lambda x: x[1], iphones)\n",
    "print(f'Sum of all iphone prices: ${sum(iphone_prices)}')"
   ]
  }
 ],
 "metadata": {
  "kernelspec": {
   "display_name": "Python 3.9.12 64-bit",
   "language": "python",
   "name": "python3"
  },
  "language_info": {
   "codemirror_mode": {
    "name": "ipython",
    "version": 3
   },
   "file_extension": ".py",
   "mimetype": "text/x-python",
   "name": "python",
   "nbconvert_exporter": "python",
   "pygments_lexer": "ipython3",
   "version": "3.9.12"
  },
  "orig_nbformat": 4,
  "vscode": {
   "interpreter": {
    "hash": "aee8b7b246df8f9039afb4144a1f6fd8d2ca17a180786b69acc140d282b71a49"
   }
  }
 },
 "nbformat": 4,
 "nbformat_minor": 2
}
