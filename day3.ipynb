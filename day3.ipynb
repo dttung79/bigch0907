{
 "cells": [
  {
   "cell_type": "code",
   "execution_count": null,
   "metadata": {},
   "outputs": [],
   "source": [
    "# 2d lists: list of lists\n",
    "a = [[1, 2, 3], [4, 5, 6], [7, 8, 9]] # 3x3 matrix\n",
    "for row in a:\n",
    "    for col in row:\n",
    "        print(col, end=' ')\n",
    "    print()"
   ]
  },
  {
   "cell_type": "code",
   "execution_count": null,
   "metadata": {},
   "outputs": [],
   "source": [
    "# print 2nd row:\n",
    "print(a[1])\n",
    "# get number 6\n",
    "print(a[1][2])\n",
    "# slicing: same as 1d list\n",
    "print(a[1:3])\n",
    "print(a[1])\n",
    "print(a[1:2])"
   ]
  },
  {
   "cell_type": "code",
   "execution_count": 2,
   "metadata": {},
   "outputs": [],
   "source": [
    "student_grades = [['John', 7.5], ['Mary', 9.0], ['Bob', 6.0], ['Alice', 8.0], ['Mike', 4.0],\n",
    "                  ['Anna', 10.0], ['Tom', 5.0], ['Peter', 3.5], ['Jane', 9.5], ['Jack', 6.5]]"
   ]
  },
  {
   "cell_type": "code",
   "execution_count": 8,
   "metadata": {},
   "outputs": [
    {
     "name": "stdout",
     "output_type": "stream",
     "text": [
      "Name: Mary, grade: 9.0\n",
      "Name: Alice, grade: 8.0\n",
      "Name: Anna, grade: 10.0\n",
      "Name: Jane, grade: 9.5\n"
     ]
    }
   ],
   "source": [
    "# Print distinction students who have grade >= 8.0\n",
    "for row in student_grades:\n",
    "    if row[1] >= 8.0:\n",
    "        print(f'Name: {row[0]}, grade: {row[1]}')"
   ]
  },
  {
   "cell_type": "code",
   "execution_count": 3,
   "metadata": {},
   "outputs": [
    {
     "name": "stdout",
     "output_type": "stream",
     "text": [
      "Number of passed students: 9\n"
     ]
    }
   ],
   "source": [
    "# Count how many passed students (grade >= 4.0)\n",
    "count = 0\n",
    "for row in student_grades:\n",
    "    if row[1] >= 4.0:\n",
    "        count += 1\n",
    "print('Number of passed students:', count)"
   ]
  },
  {
   "cell_type": "code",
   "execution_count": 10,
   "metadata": {},
   "outputs": [
    {
     "name": "stdout",
     "output_type": "stream",
     "text": [
      "[[], [1], [2, 3], [4, 5, 6]] 4\n",
      "6\n"
     ]
    },
    {
     "ename": "IndexError",
     "evalue": "list index out of range",
     "output_type": "error",
     "traceback": [
      "\u001b[0;31m---------------------------------------------------------------------------\u001b[0m",
      "\u001b[0;31mIndexError\u001b[0m                                Traceback (most recent call last)",
      "\u001b[1;32m/Volumes/GoogleDrive/My Drive/FPTU/Program - F2G new/Unit 14 - Business Intelligence/GCH0907/code/bigch0907/day3.ipynb Cell 6\u001b[0m in \u001b[0;36m<cell line: 8>\u001b[0;34m()\u001b[0m\n\u001b[1;32m      <a href='vscode-notebook-cell:/Volumes/GoogleDrive/My%20Drive/FPTU/Program%20-%20F2G%20new/Unit%2014%20-%20Business%20Intelligence/GCH0907/code/bigch0907/day3.ipynb#W5sZmlsZQ%3D%3D?line=5'>6</a>\u001b[0m \u001b[39mprint\u001b[39m(a, \u001b[39mlen\u001b[39m(a))\n\u001b[1;32m      <a href='vscode-notebook-cell:/Volumes/GoogleDrive/My%20Drive/FPTU/Program%20-%20F2G%20new/Unit%2014%20-%20Business%20Intelligence/GCH0907/code/bigch0907/day3.ipynb#W5sZmlsZQ%3D%3D?line=6'>7</a>\u001b[0m \u001b[39mprint\u001b[39m(a[\u001b[39m3\u001b[39m][\u001b[39m2\u001b[39m])\n\u001b[0;32m----> <a href='vscode-notebook-cell:/Volumes/GoogleDrive/My%20Drive/FPTU/Program%20-%20F2G%20new/Unit%2014%20-%20Business%20Intelligence/GCH0907/code/bigch0907/day3.ipynb#W5sZmlsZQ%3D%3D?line=7'>8</a>\u001b[0m \u001b[39mprint\u001b[39m(a[\u001b[39m2\u001b[39;49m][\u001b[39m2\u001b[39;49m])\n",
      "\u001b[0;31mIndexError\u001b[0m: list index out of range"
     ]
    }
   ],
   "source": [
    "# length of rows can be different\n",
    "a = [[],\n",
    "     [1],\n",
    "     [2, 3],\n",
    "     [4, 5, 6]]\n",
    "print(a, len(a))\n",
    "print(a[3][2])\n",
    "print(a[2][2]) # error"
   ]
  },
  {
   "cell_type": "code",
   "execution_count": 12,
   "metadata": {},
   "outputs": [
    {
     "name": "stdout",
     "output_type": "stream",
     "text": [
      "[[75, 18, 46, 82, 7], [79, 66, 82, 83, 43], [36, 65, 4, 30, 66], [85, 95, 51, 52, 27], [38, 82, 4, 24, 39]]\n"
     ]
    }
   ],
   "source": [
    "# Exercise\n",
    "import random as rd\n",
    "# Create 2d list 5x5 of random integers\n",
    "a = []\n",
    "for i in range(5):\n",
    "    a.append(rd.sample(range(1, 100), 5))\n",
    "print(a)"
   ]
  },
  {
   "cell_type": "code",
   "execution_count": 19,
   "metadata": {},
   "outputs": [
    {
     "name": "stdout",
     "output_type": "stream",
     "text": [
      "[[79, 66, 82, 83, 43], [36, 65, 4, 30, 66], [85, 95, 51, 52, 27]]\n",
      "[[79, 66, 82, 83, 43], [36, 65, 4, 30, 66], [85, 95, 51, 52, 27]]\n",
      "[[79, 66, 82, 83, 43], [36, 65, 4, 30, 66], [85, 95, 51, 52, 27]]\n",
      "[[79, 66, 82, 83, 43], [36, 65, 4, 30, 66], [85, 95, 51, 52, 27]]\n",
      "[[85, 95, 51, 52, 27], [38, 82, 4, 24, 39]]\n",
      "[[85, 95, 51, 52, 27], [38, 82, 4, 24, 39]]\n",
      "[[85, 95, 51, 52, 27], [38, 82, 4, 24, 39]]\n",
      "[[85, 95, 51, 52, 27], [38, 82, 4, 24, 39]]\n",
      "Max of a[3]: 95, min of a[3]: 27\n",
      "Sum of a[3]: 310\n",
      "Sorted a[3]: [27, 51, 52, 85, 95]\n"
     ]
    }
   ],
   "source": [
    "# Get 3 middle rows in as many ways as you can\n",
    "print(a[1:4], a[1:-1], a[-4: -1], a[-4:4], sep='\\n')\n",
    "# Get 2 last rows in as many ways as you can\n",
    "print(a[3:5], a[3:], a[-2:], a[-2:5], sep='\\n')\n",
    "# Enter n from keyboard, get max, min of nth row and print them (hint: using function max, min)\n",
    "n = int(input('Enter n: '))\n",
    "print(f'Max of a[{n}]: {max(a[n])}, min of a[{n}]: {min(a[n])}')\n",
    "# Enter n from keyboard, get sum of nth row and print it (hint: using function sum)\n",
    "print(f'Sum of a[{n}]: {sum(a[n])}')\n",
    "# Enter n from keyboard, sort nth row and print it (hint: using function sorted)\n",
    "print(f'Sorted a[{n}]: {sorted(a[n])}')\n"
   ]
  },
  {
   "cell_type": "code",
   "execution_count": 21,
   "metadata": {},
   "outputs": [
    {
     "name": "stdout",
     "output_type": "stream",
     "text": [
      "[1, 2, 3] <class 'list'>\n",
      "[1 2 3] <class 'numpy.ndarray'>\n"
     ]
    }
   ],
   "source": [
    "import numpy as np\n",
    "# create array from list\n",
    "a = [1, 2, 3]\n",
    "b = np.array(a)\n",
    "print(a, type(a))\n",
    "print(b, type(b))"
   ]
  },
  {
   "cell_type": "code",
   "execution_count": 33,
   "metadata": {},
   "outputs": [
    {
     "name": "stdout",
     "output_type": "stream",
     "text": [
      "[0 1 2 3 4 5 6 7 8 9]\n",
      "[1 3 5 7 9]\n",
      "[0.  0.1 0.2 0.3 0.4 0.5 0.6 0.7 0.8 0.9]\n"
     ]
    }
   ],
   "source": [
    "# create array from arange function (similar range function)\n",
    "a = np.arange(10)\n",
    "print(a)\n",
    "a = np.arange(1, 10, 2)\n",
    "print(a)\n",
    "a = np.arange(0, 1, 0.1)\n",
    "print(a)"
   ]
  },
  {
   "cell_type": "code",
   "execution_count": 35,
   "metadata": {},
   "outputs": [
    {
     "name": "stdout",
     "output_type": "stream",
     "text": [
      "[0.    1.125 2.25  3.375 4.5   5.625 6.75  7.875 9.   ]\n"
     ]
    }
   ],
   "source": [
    "# create array from linspace(start, end, n) function\n",
    "a = np.linspace(0, 9, 9)\n",
    "print(a)"
   ]
  },
  {
   "cell_type": "code",
   "execution_count": 37,
   "metadata": {},
   "outputs": [
    {
     "name": "stdout",
     "output_type": "stream",
     "text": [
      "[   1    2    4    8   16   32   64  128  256  512 1024]\n"
     ]
    }
   ],
   "source": [
    "# create array from logspace(start, end, n) function\n",
    "a = np.logspace(0, 10, 11, base=2, dtype=int)\n",
    "print(a)"
   ]
  },
  {
   "cell_type": "code",
   "execution_count": 42,
   "metadata": {},
   "outputs": [
    {
     "name": "stdout",
     "output_type": "stream",
     "text": [
      "[ 50  55  60  65  70  75  80  85  90  95 100]\n",
      "[2.         2.21428571 2.42857143 2.64285714 2.85714286 3.07142857\n",
      " 3.28571429 3.5        3.71428571 3.92857143 4.14285714 4.35714286\n",
      " 4.57142857 4.78571429 5.        ]\n",
      "[    3     9    27    81   243   729  2187  6561 19683 59049]\n"
     ]
    }
   ],
   "source": [
    "# create array from 50 - 100, step 5\n",
    "a = np.arange(50, 101, 5)\n",
    "print(a)\n",
    "# create 15 numbers from 2 to 5\n",
    "a = np.linspace(2, 5, 15)\n",
    "print(a)\n",
    "# create these numbers: 3, 9, 27, 81, 243, 729, 2187, 6561, 19683, 59049\n",
    "a = np.logspace(1, 10, 10, base=3, dtype=int)\n",
    "print(a)"
   ]
  },
  {
   "cell_type": "code",
   "execution_count": 44,
   "metadata": {},
   "outputs": [
    {
     "name": "stdout",
     "output_type": "stream",
     "text": [
      "[0. 0. 0. 0. 0. 0. 0. 0. 0. 0.]\n",
      "[[1. 1. 1.]\n",
      " [1. 1. 1.]\n",
      " [1. 1. 1.]]\n"
     ]
    }
   ],
   "source": [
    "# create arrays of zeros, ones\n",
    "zeros = np.zeros(10)\n",
    "print(zeros)\n",
    "ones = np.ones((3, 3))\n",
    "print(ones)"
   ]
  },
  {
   "cell_type": "code",
   "execution_count": 48,
   "metadata": {},
   "outputs": [
    {
     "name": "stdout",
     "output_type": "stream",
     "text": [
      "[29 66 45 82 84]\n",
      "[39 76 55 92 94]\n",
      "[19 56 35 72 74]\n",
      "[290 660 450 820 840]\n",
      "[2.9 6.6 4.5 8.2 8.4]\n",
      "[9 6 5 2 4]\n",
      "[2 6 4 8 8]\n",
      "[ 841 4356 2025 6724 7056]\n"
     ]
    }
   ],
   "source": [
    "# Array operators: +, -, *, /, %, //, ** with number\n",
    "a = np.random.randint(10, 100, 5)\n",
    "print(a)\n",
    "print(a + 10)\n",
    "print(a - 10)\n",
    "print(a * 10)\n",
    "print(a / 10)\n",
    "print(a % 10)\n",
    "print(a // 10)\n",
    "print(a ** 2)"
   ]
  },
  {
   "cell_type": "code",
   "execution_count": 50,
   "metadata": {},
   "outputs": [
    {
     "name": "stdout",
     "output_type": "stream",
     "text": [
      "[5 7 9]\n",
      "[-3 -3 -3]\n",
      "[ 4 10 18]\n",
      "[0.25 0.4  0.5 ]\n",
      "[1 2 3]\n",
      "[0 0 0]\n",
      "[  1  32 729]\n"
     ]
    }
   ],
   "source": [
    "# Array operators: +, -, *, /, %, //, ** with array (same size)\n",
    "a = np.array([1, 2, 3])\n",
    "b = np.array([4, 5, 6])\n",
    "print(a + b)\n",
    "print(a - b)\n",
    "print(a * b)\n",
    "print(a / b)\n",
    "print(a % b)\n",
    "print(a // b)\n",
    "print(a ** b)"
   ]
  },
  {
   "cell_type": "code",
   "execution_count": 53,
   "metadata": {},
   "outputs": [
    {
     "name": "stdout",
     "output_type": "stream",
     "text": [
      "[53 71 53 52 73 47 38 76 53 90]\n",
      "[False False False  True False False  True  True False  True]\n",
      "[52 38 76 90]\n"
     ]
    }
   ],
   "source": [
    "# Boolean indexing\n",
    "a = np.random.randint(10, 100, 10)\n",
    "b = a % 2 == 0\n",
    "print(a)\n",
    "print(b)\n",
    "print(a[b])"
   ]
  },
  {
   "cell_type": "code",
   "execution_count": 56,
   "metadata": {},
   "outputs": [
    {
     "name": "stdout",
     "output_type": "stream",
     "text": [
      "[53 53 73 53]\n",
      "[53 53 52 53]\n",
      "[47 38 76]\n"
     ]
    }
   ],
   "source": [
    "# Find numbers that has the last digit is 3\n",
    "print(a[a % 10 == 3])\n",
    "# Find number that has the first digit is 5\n",
    "print(a[a // 10 == 5])\n",
    "# Find numbers that has sum of digits > 10\n",
    "print(a[(a // 10 + a % 10) > 10])"
   ]
  },
  {
   "cell_type": "code",
   "execution_count": 58,
   "metadata": {},
   "outputs": [
    {
     "name": "stdout",
     "output_type": "stream",
     "text": [
      "[[56 31 33 28 84]\n",
      " [89 69 30 32 36]\n",
      " [27 66 12 80 64]\n",
      " [48 26 32 28 14]\n",
      " [67 48 68 76 75]]\n",
      "80\n",
      "80\n"
     ]
    }
   ],
   "source": [
    "# 1d Array indexing & slicing: same as list\n",
    "\n",
    "# 2d Array indexing & slicing\n",
    "a = np.random.randint(10, 100, (5, 5))\n",
    "print(a)\n",
    "# indexing list-style\n",
    "print(a[2][3])\n",
    "# indexing array-style\n",
    "print(a[2, 3])"
   ]
  },
  {
   "cell_type": "code",
   "execution_count": 59,
   "metadata": {},
   "outputs": [
    {
     "name": "stdout",
     "output_type": "stream",
     "text": [
      "[[89 69 30 32 36]\n",
      " [27 66 12 80 64]\n",
      " [48 26 32 28 14]]\n"
     ]
    }
   ],
   "source": [
    "# Slice rows:\n",
    "print(a[1:4])"
   ]
  },
  {
   "cell_type": "code",
   "execution_count": 60,
   "metadata": {},
   "outputs": [
    {
     "name": "stdout",
     "output_type": "stream",
     "text": [
      "[[31 33]\n",
      " [69 30]\n",
      " [66 12]\n",
      " [26 32]\n",
      " [48 68]]\n"
     ]
    }
   ],
   "source": [
    "# Slice columns:\n",
    "print(a[:, 1:3])"
   ]
  },
  {
   "cell_type": "code",
   "execution_count": 61,
   "metadata": {},
   "outputs": [
    {
     "name": "stdout",
     "output_type": "stream",
     "text": [
      "[[30 32]\n",
      " [12 80]\n",
      " [32 28]]\n"
     ]
    }
   ],
   "source": [
    "# Slice both rows and columns:\n",
    "print(a[1:4, 2:4])"
   ]
  },
  {
   "cell_type": "code",
   "execution_count": 62,
   "metadata": {},
   "outputs": [
    {
     "name": "stdout",
     "output_type": "stream",
     "text": [
      "5 (5, 5)\n"
     ]
    }
   ],
   "source": [
    "print(len(a), np.shape(a))"
   ]
  },
  {
   "cell_type": "code",
   "execution_count": 66,
   "metadata": {},
   "outputs": [
    {
     "name": "stdout",
     "output_type": "stream",
     "text": [
      "[56 31 33 28 84] [[56 31 33 28 84]]\n",
      "(5,) (1, 5)\n",
      "[[56]\n",
      " [31]\n",
      " [33]\n",
      " [28]\n",
      " [84]] (5, 1)\n"
     ]
    }
   ],
   "source": [
    "b = a[0]\n",
    "c = a[0:1, :]\n",
    "print(b, c)\n",
    "print(np.shape(b), np.shape(c))\n",
    "# transpose c\n",
    "d = c.T\n",
    "print(d, np.shape(d))"
   ]
  }
 ],
 "metadata": {
  "kernelspec": {
   "display_name": "Python 3.9.12 64-bit",
   "language": "python",
   "name": "python3"
  },
  "language_info": {
   "codemirror_mode": {
    "name": "ipython",
    "version": 3
   },
   "file_extension": ".py",
   "mimetype": "text/x-python",
   "name": "python",
   "nbconvert_exporter": "python",
   "pygments_lexer": "ipython3",
   "version": "3.9.12"
  },
  "orig_nbformat": 4,
  "vscode": {
   "interpreter": {
    "hash": "aee8b7b246df8f9039afb4144a1f6fd8d2ca17a180786b69acc140d282b71a49"
   }
  }
 },
 "nbformat": 4,
 "nbformat_minor": 2
}
