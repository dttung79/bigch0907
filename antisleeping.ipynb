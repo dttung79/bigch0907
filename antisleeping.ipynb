{
 "cells": [
  {
   "cell_type": "code",
   "execution_count": 1,
   "metadata": {},
   "outputs": [],
   "source": [
    "# Give shool years & corresponding number of students\n",
    "school_years = [2010, 2011, 2012, 2013, 2014, 2015, 2016, 2017, 2018, 2019]\n",
    "total_students = [3115, 3420, 3287, 2998, 3514, 3184, 3337, 3409, 3240, 3451]"
   ]
  },
  {
   "cell_type": "code",
   "execution_count": 2,
   "metadata": {},
   "outputs": [
    {
     "name": "stdout",
     "output_type": "stream",
     "text": [
      "The sum of total number of students in odd years is 16462\n",
      "The sum of total number of students in even years is 16493\n"
     ]
    }
   ],
   "source": [
    "# Ex1.1: Calculte the sum of total number of students in odd years\n",
    "print('The sum of total number of students in odd years is', sum(total_students[1::2]))\n",
    "# Ex1.2: Calculte the sum of total number of students in even years\n",
    "print('The sum of total number of students in even years is', sum(total_students[::2]))"
   ]
  },
  {
   "cell_type": "code",
   "execution_count": 3,
   "metadata": {},
   "outputs": [
    {
     "name": "stdout",
     "output_type": "stream",
     "text": [
      "The year when there are the most students enrolled is 2014\n",
      "The year when there are the least students enrolled is 2013\n"
     ]
    }
   ],
   "source": [
    "# Ex2.1: Find the year when there are the most students enrolled\n",
    "max_enrolled = max(total_students)\n",
    "max_index = total_students.index(max_enrolled)\n",
    "print('Most students enrolled in', school_years[max_index])\n",
    "# Ex2.2: Find the year when there are the least students enrolled\n",
    "print('Least students enrolled in', school_years[total_students.index(min(total_students))])"
   ]
  },
  {
   "cell_type": "code",
   "execution_count": 14,
   "metadata": {},
   "outputs": [
    {
     "name": "stdout",
     "output_type": "stream",
     "text": [
      "[2011, 2014, 2016, 2017, 2019]\n"
     ]
    }
   ],
   "source": [
    "# Ex3: Calculate the average number of students and find years \n",
    "# when the number of students is above the average\n",
    "avg_enrolled = sum(total_students) / len(total_students)\n",
    "# good_enrolled = [n for n in total_students if n > avg_enrolled]\n",
    "# good_years = [y for y in school_years if total_students[school_years.index(y)] in good_enrolled]\n",
    "n = len(total_students)\n",
    "good_years = [school_years[i] for i in range(n) if total_students[i] > avg_enrolled]\n",
    "print(good_years)"
   ]
  },
  {
   "cell_type": "code",
   "execution_count": null,
   "metadata": {},
   "outputs": [],
   "source": [
    "# Ex4: User enters a year, find the number of students in that year\n",
    "# If the year is not in the list, print \"No data\"\n",
    "y = int(input('Enter a year: '))\n",
    "if y not in school_years:\n",
    "    print('No data')\n",
    "else:\n",
    "    print('Number of students in', y, 'is', total_students[school_years.index(y)])"
   ]
  },
  {
   "cell_type": "code",
   "execution_count": 16,
   "metadata": {},
   "outputs": [
    {
     "name": "stdout",
     "output_type": "stream",
     "text": [
      "Number of times the number of students increases from one year to the next is 5\n",
      "Number of times the number of students decreases from one year to the next is 4\n"
     ]
    }
   ],
   "source": [
    "# Ex5: Count how many times the number of students increases from one year to the next\n",
    "# and how many times it decreases. \n",
    "# For example, from 2010 to 2011, the number of students increases\n",
    "# and from 2011 to 2012, the number of students decreases.\n",
    "increase_years = [school_years[i] for i in range(n-1) if total_students[i+1] > total_students[i]]\n",
    "print('Number of times the number of students increases from one year to the next is', len(increase_years))\n",
    "decrease_years = [school_years[i] for i in range(n-1) if total_students[i+1] < total_students[i]]\n",
    "print('Number of times the number of students decreases from one year to the next is', len(decrease_years))"
   ]
  },
  {
   "cell_type": "code",
   "execution_count": null,
   "metadata": {},
   "outputs": [],
   "source": [
    "# List comprehension: create a new list use for loop & original list\n",
    "# General syntax: [x for n in seq if cond...]"
   ]
  },
  {
   "cell_type": "code",
   "execution_count": 6,
   "metadata": {},
   "outputs": [
    {
     "name": "stdout",
     "output_type": "stream",
     "text": [
      "[-48, -26, -1, 77, 65, 8, 41, -18, 95, 76, -73, -14, 30, -7, -49]\n",
      "[-48, -26, 8, -18, 76, -14, 30]\n",
      "[-48, -26, -1, -18, -73, -14, -7, -49]\n"
     ]
    }
   ],
   "source": [
    "import random as rd\n",
    "# generate a list of 10 random integers between 0 and 100\n",
    "numbers = rd.sample(range(-100, 100), 15)\n",
    "print(numbers)\n",
    "evens = [n for n in numbers if n % 2 == 0]\n",
    "print(evens)\n",
    "\n",
    "negatives = [n for n in numbers if n < 0]\n",
    "print(negatives)"
   ]
  },
  {
   "cell_type": "code",
   "execution_count": 10,
   "metadata": {},
   "outputs": [
    {
     "name": "stdout",
     "output_type": "stream",
     "text": [
      "Longest name is John Yoko Lennon\n",
      "Longest name is John Yoko Lennon\n"
     ]
    }
   ],
   "source": [
    "the_beatles = ['John Yoko Lennon', 'Paul McCartney', 'George Harrison', 'Ringo Starr']\n",
    "lengths = [len(n) for n in the_beatles]\n",
    "# find longest name\n",
    "print('Longest name is', the_beatles[lengths.index(max(lengths))])\n",
    "print('Longest name is', max(the_beatles, key=len))\n",
    "#print(max(the_beatles)) # not correct, max by alphabetical order"
   ]
  },
  {
   "cell_type": "code",
   "execution_count": 12,
   "metadata": {},
   "outputs": [
    {
     "name": "stdout",
     "output_type": "stream",
     "text": [
      "[-48, -26, -1, 77, 65, 8, 41, -18, 95, 76, -73, -14, 30, -7, -49]\n",
      "[48, 26, 1, 77, 65, 8, 41, 18, 95, 76, 73, 14, 30, 7, 49]\n"
     ]
    }
   ],
   "source": [
    "# convert old list to new list using list comprehension\n",
    "print(numbers)\n",
    "new_numbers = [n if n > 0 else -n for n in numbers]\n",
    "print(new_numbers)"
   ]
  },
  {
   "cell_type": "code",
   "execution_count": 13,
   "metadata": {},
   "outputs": [
    {
     "name": "stdout",
     "output_type": "stream",
     "text": [
      "Number of even numbers 7\n",
      "Number of even numbers 7\n"
     ]
    }
   ],
   "source": [
    "# count how many even numbers in the list new_numbers\n",
    "print('Number of even numbers', len([n for n in new_numbers if n % 2 == 0]))\n",
    "print('Number of even numbers', sum([1 if n % 2 == 0 else 0 for n in new_numbers]))"
   ]
  }
 ],
 "metadata": {
  "kernelspec": {
   "display_name": "Python 3.9.12 64-bit",
   "language": "python",
   "name": "python3"
  },
  "language_info": {
   "codemirror_mode": {
    "name": "ipython",
    "version": 3
   },
   "file_extension": ".py",
   "mimetype": "text/x-python",
   "name": "python",
   "nbconvert_exporter": "python",
   "pygments_lexer": "ipython3",
   "version": "3.9.12"
  },
  "orig_nbformat": 4,
  "vscode": {
   "interpreter": {
    "hash": "aee8b7b246df8f9039afb4144a1f6fd8d2ca17a180786b69acc140d282b71a49"
   }
  }
 },
 "nbformat": 4,
 "nbformat_minor": 2
}
