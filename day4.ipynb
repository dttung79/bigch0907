{
 "cells": [
  {
   "cell_type": "code",
   "execution_count": 3,
   "metadata": {},
   "outputs": [],
   "source": [
    "# Dictionary: collections of pairs (key, value)\n",
    "rooms = {'Peter': 201, 'Joanna': 105, 'Mike': 301, 'John': 202}"
   ]
  },
  {
   "cell_type": "code",
   "execution_count": null,
   "metadata": {},
   "outputs": [],
   "source": [
    "# use for loop to print out the guest & room number\n",
    "for guest in rooms:\n",
    "    print(f'{guest} is in room {rooms[guest]}')\n",
    "print('-' * 20)\n",
    "for guest, room_no in rooms.items():\n",
    "    print(f'{guest} is in room {room_no}')"
   ]
  },
  {
   "cell_type": "code",
   "execution_count": 15,
   "metadata": {},
   "outputs": [
    {
     "name": "stdout",
     "output_type": "stream",
     "text": [
      "{'Peter': 400, 'Joanna': 105, 'Mike': 500, 'John': 202, 'Wendy': 444, 'Johnson': 444}\n"
     ]
    }
   ],
   "source": [
    "# A new guest arrive to check-in\n",
    "name = input('Please enter your name: ')\n",
    "room_no = int(input('Please enter room number: '))\n",
    "# add the new guest to the dictionary\n",
    "if name in rooms:\n",
    "    print(f'Guest {name} is already in the hotel')\n",
    "else:\n",
    "    rooms[name] = room_no\n",
    "    print(rooms)"
   ]
  },
  {
   "cell_type": "code",
   "execution_count": 12,
   "metadata": {},
   "outputs": [
    {
     "name": "stdout",
     "output_type": "stream",
     "text": [
      "Current room: 303\n",
      "{'Peter': 400, 'Joanna': 105, 'Mike': 500, 'John': 202, 'Paul': 222, 'Wendy': 444}\n"
     ]
    }
   ],
   "source": [
    "# Guest wants to change his/her room\n",
    "name = input('Please enter your name: ')\n",
    "if name not in rooms:\n",
    "    print(f'Guest {name} is not in the hotel')\n",
    "else:\n",
    "    print('Current room:', rooms[name])\n",
    "    room_no = int(input('Please enter new room number: '))\n",
    "    rooms[name] = room_no\n",
    "    print(rooms)"
   ]
  },
  {
   "cell_type": "code",
   "execution_count": 14,
   "metadata": {},
   "outputs": [
    {
     "name": "stdout",
     "output_type": "stream",
     "text": [
      "Guest Paul has checked out from room 222\n",
      "{'Peter': 400, 'Joanna': 105, 'Mike': 500, 'John': 202, 'Wendy': 444}\n"
     ]
    }
   ],
   "source": [
    "# A guest wants to check-out\n",
    "name = input('Please enter your name: ')\n",
    "if name not in rooms:\n",
    "    print(f'Guest {name} is not in the hotel')\n",
    "else:\n",
    "    room_no = rooms.pop(name)\n",
    "    print(f'Guest {name} has checked out from room {room_no}')\n",
    "    print(rooms)"
   ]
  }
 ],
 "metadata": {
  "kernelspec": {
   "display_name": "Python 3.9.12 64-bit",
   "language": "python",
   "name": "python3"
  },
  "language_info": {
   "codemirror_mode": {
    "name": "ipython",
    "version": 3
   },
   "file_extension": ".py",
   "mimetype": "text/x-python",
   "name": "python",
   "nbconvert_exporter": "python",
   "pygments_lexer": "ipython3",
   "version": "3.9.12"
  },
  "orig_nbformat": 4,
  "vscode": {
   "interpreter": {
    "hash": "aee8b7b246df8f9039afb4144a1f6fd8d2ca17a180786b69acc140d282b71a49"
   }
  }
 },
 "nbformat": 4,
 "nbformat_minor": 2
}
