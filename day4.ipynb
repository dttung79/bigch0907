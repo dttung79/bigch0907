{
 "cells": [
  {
   "cell_type": "code",
   "execution_count": 3,
   "metadata": {},
   "outputs": [],
   "source": [
    "# Dictionary: collections of pairs (key, value)\n",
    "rooms = {'Peter': 201, 'Joanna': 105, 'Mike': 301, 'John': 202}"
   ]
  },
  {
   "cell_type": "code",
   "execution_count": null,
   "metadata": {},
   "outputs": [],
   "source": [
    "# use for loop to print out the guest & room number\n",
    "for guest in rooms:\n",
    "    print(f'{guest} is in room {rooms[guest]}')\n",
    "print('-' * 20)\n",
    "for guest, room_no in rooms.items():\n",
    "    print(f'{guest} is in room {room_no}')"
   ]
  },
  {
   "cell_type": "code",
   "execution_count": 15,
   "metadata": {},
   "outputs": [
    {
     "name": "stdout",
     "output_type": "stream",
     "text": [
      "{'Peter': 400, 'Joanna': 105, 'Mike': 500, 'John': 202, 'Wendy': 444, 'Johnson': 444}\n"
     ]
    }
   ],
   "source": [
    "# A new guest arrive to check-in\n",
    "name = input('Please enter your name: ')\n",
    "room_no = int(input('Please enter room number: '))\n",
    "# add the new guest to the dictionary\n",
    "if name in rooms:\n",
    "    print(f'Guest {name} is already in the hotel')\n",
    "else:\n",
    "    rooms[name] = room_no\n",
    "    print(rooms)"
   ]
  },
  {
   "cell_type": "code",
   "execution_count": 12,
   "metadata": {},
   "outputs": [
    {
     "name": "stdout",
     "output_type": "stream",
     "text": [
      "Current room: 303\n",
      "{'Peter': 400, 'Joanna': 105, 'Mike': 500, 'John': 202, 'Paul': 222, 'Wendy': 444}\n"
     ]
    }
   ],
   "source": [
    "# Guest wants to change his/her room\n",
    "name = input('Please enter your name: ')\n",
    "if name not in rooms:\n",
    "    print(f'Guest {name} is not in the hotel')\n",
    "else:\n",
    "    print('Current room:', rooms[name])\n",
    "    room_no = int(input('Please enter new room number: '))\n",
    "    rooms[name] = room_no\n",
    "    print(rooms)"
   ]
  },
  {
   "cell_type": "code",
   "execution_count": 14,
   "metadata": {},
   "outputs": [
    {
     "name": "stdout",
     "output_type": "stream",
     "text": [
      "Guest Paul has checked out from room 222\n",
      "{'Peter': 400, 'Joanna': 105, 'Mike': 500, 'John': 202, 'Wendy': 444}\n"
     ]
    }
   ],
   "source": [
    "# A guest wants to check-out\n",
    "name = input('Please enter your name: ')\n",
    "if name not in rooms:\n",
    "    print(f'Guest {name} is not in the hotel')\n",
    "else:\n",
    "    room_no = rooms.pop(name)\n",
    "    print(f'Guest {name} has checked out from room {room_no}')\n",
    "    print(rooms)"
   ]
  },
  {
   "cell_type": "code",
   "execution_count": 18,
   "metadata": {},
   "outputs": [
    {
     "name": "stdout",
     "output_type": "stream",
     "text": [
      "ID: GCH1006, Name: John Lennon, Grade: 40\n"
     ]
    }
   ],
   "source": [
    "students = { 'GCH1001': ['John Lennon', 75], 'GCH1002': ['Paul McCartney', 80], \\\n",
    "             'GCH1003': ['George Harrison', 65], 'GCH1004': ['Ringo Starr', 30], \\\n",
    "             'GCH1005': ['Pete Best', 45], 'GCH1006': ['John Lennon', 40] }\n",
    "id = input('Please enter student ID: ')\n",
    "if id in students:\n",
    "    print(f'ID: {id}, Name: {students[id][0]}, Grade: {students[id][1]}')"
   ]
  },
  {
   "cell_type": "code",
   "execution_count": null,
   "metadata": {},
   "outputs": [],
   "source": [
    "# Enroll student by enter ID, name (grade = 0)\n",
    "id = input('Please enter student ID: ')\n",
    "if id in students:\n",
    "    print(f'ID {id} is already in the system')\n",
    "else:\n",
    "    name = input('Please enter student name: ')\n",
    "    students[id] = [name, 0]\n",
    "    print(students)"
   ]
  },
  {
   "cell_type": "code",
   "execution_count": 20,
   "metadata": {},
   "outputs": [
    {
     "name": "stdout",
     "output_type": "stream",
     "text": [
      "['Paul McCartney', 85]\n"
     ]
    }
   ],
   "source": [
    "# Update student grade by enter ID, grade\n",
    "id = input('Please enter student ID: ')\n",
    "if id not in students:\n",
    "    print(f'ID {id} is not in the system')\n",
    "else:\n",
    "    grade = int(input('Please enter student grade: '))\n",
    "    students[id][1] = grade\n",
    "    print(students[id])"
   ]
  },
  {
   "cell_type": "code",
   "execution_count": 21,
   "metadata": {},
   "outputs": [
    {
     "name": "stdout",
     "output_type": "stream",
     "text": [
      "Student Paul McCartney has been dropped out\n",
      "{'GCH1001': ['John Lennon', 75], 'GCH1003': ['George Harrison', 65], 'GCH1004': ['Ringo Starr', 30], 'GCH1005': ['Pete Best', 45], 'GCH1006': ['John Lennon', 40]}\n"
     ]
    }
   ],
   "source": [
    "# Drop out student by enter ID\n",
    "id = input('Please enter student ID: ')\n",
    "if id not in students:\n",
    "    print(f'ID {id} is not in the system')\n",
    "else:\n",
    "    student_grade = students.pop(id)\n",
    "    print(f'Student {student_grade[0]} has been dropped out')\n",
    "print(students)"
   ]
  },
  {
   "cell_type": "code",
   "execution_count": 24,
   "metadata": {},
   "outputs": [],
   "source": [
    "students = {'John': 6.5, 'Paul': 7.0, 'George': 8.0, 'Ringo': 5.5, 'Pete': 6.0,\n",
    "            'Mike': 3.0, 'Anne': 8.5, 'Mary': 8.5, 'Peter': 3.5, 'Joanna': 6.5}"
   ]
  },
  {
   "cell_type": "code",
   "execution_count": 26,
   "metadata": {},
   "outputs": [
    {
     "name": "stdout",
     "output_type": "stream",
     "text": [
      "Anne has the highest grade: 8.5\n",
      "Mary has the highest grade: 8.5\n"
     ]
    }
   ],
   "source": [
    "# C1: use traditional for loop\n",
    "max_grade = 0\n",
    "for st, grade in students.items():\n",
    "    if grade > max_grade:\n",
    "        max_grade = grade\n",
    "for st, grade in students.items():\n",
    "    if grade == max_grade:\n",
    "        print(f'{st} has the highest grade: {grade}')"
   ]
  },
  {
   "cell_type": "code",
   "execution_count": 29,
   "metadata": {},
   "outputs": [
    {
     "name": "stdout",
     "output_type": "stream",
     "text": [
      "['Anne', 'Mary']\n"
     ]
    }
   ],
   "source": [
    "max_grade = max([grade for st, grade in students.items()])\n",
    "best_students = [st for st, grade in students.items() if grade == max_grade]\n",
    "print(best_students)"
   ]
  },
  {
   "cell_type": "code",
   "execution_count": 31,
   "metadata": {},
   "outputs": [
    {
     "name": "stdout",
     "output_type": "stream",
     "text": [
      "Best student is: Anne\n"
     ]
    }
   ],
   "source": [
    "print('Best student is:', max(students, key=students.get))"
   ]
  },
  {
   "cell_type": "code",
   "execution_count": 30,
   "metadata": {},
   "outputs": [
    {
     "name": "stdout",
     "output_type": "stream",
     "text": [
      "Mean grade: 6.3\n"
     ]
    }
   ],
   "source": [
    "mean_grade = sum([grade for st, grade in students.items()]) / len(students)\n",
    "print('Mean grade:', mean_grade)"
   ]
  }
 ],
 "metadata": {
  "kernelspec": {
   "display_name": "Python 3.9.12 64-bit",
   "language": "python",
   "name": "python3"
  },
  "language_info": {
   "codemirror_mode": {
    "name": "ipython",
    "version": 3
   },
   "file_extension": ".py",
   "mimetype": "text/x-python",
   "name": "python",
   "nbconvert_exporter": "python",
   "pygments_lexer": "ipython3",
   "version": "3.9.12"
  },
  "orig_nbformat": 4,
  "vscode": {
   "interpreter": {
    "hash": "aee8b7b246df8f9039afb4144a1f6fd8d2ca17a180786b69acc140d282b71a49"
   }
  }
 },
 "nbformat": 4,
 "nbformat_minor": 2
}
