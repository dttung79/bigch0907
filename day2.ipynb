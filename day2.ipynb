{
 "cells": [
  {
   "cell_type": "code",
   "execution_count": null,
   "metadata": {},
   "outputs": [],
   "source": [
    "# declare an empty list\n",
    "a = []\n",
    "# declare a list with 5 elements\n",
    "b = [1, 2, 3, 4, 5]\n",
    "c = [1, 'abc', 4.12, True] # items in a list can be of different types\n",
    "print(a, type(a))\n",
    "print(b, type(b))\n",
    "print(c, type(c))"
   ]
  },
  {
   "cell_type": "code",
   "execution_count": null,
   "metadata": {},
   "outputs": [],
   "source": [
    "# indexing\n",
    "print(b[0], b[-5])\n",
    "print(b[4], b[-1])"
   ]
  },
  {
   "cell_type": "code",
   "execution_count": 6,
   "metadata": {},
   "outputs": [
    {
     "name": "stdout",
     "output_type": "stream",
     "text": [
      "[1, 2, 3, 4, 5, 6]\n"
     ]
    }
   ],
   "source": [
    "# Operations\n",
    "a = [1, 2, 3]\n",
    "b = [4, 5, 6]\n",
    "c = a + b\n",
    "print(c)"
   ]
  },
  {
   "cell_type": "code",
   "execution_count": 7,
   "metadata": {},
   "outputs": [
    {
     "name": "stdout",
     "output_type": "stream",
     "text": [
      "[1, 2, 3, 1, 2, 3]\n"
     ]
    }
   ],
   "source": [
    "c = a * 2\n",
    "print(c)"
   ]
  },
  {
   "cell_type": "code",
   "execution_count": 9,
   "metadata": {},
   "outputs": [
    {
     "name": "stdout",
     "output_type": "stream",
     "text": [
      "John Mary Bob Alice "
     ]
    }
   ],
   "source": [
    "names = ['John', 'Mary', 'Bob', 'Alice']\n",
    "for n in names:          # loop without index\n",
    "    print(n, end=' ')"
   ]
  },
  {
   "cell_type": "code",
   "execution_count": 12,
   "metadata": {},
   "outputs": [
    {
     "name": "stdout",
     "output_type": "stream",
     "text": [
      "1 John\n",
      "2 Mary\n",
      "3 Bob\n",
      "4 Alice\n"
     ]
    }
   ],
   "source": [
    "for i in range(len(names)): # loop with index\n",
    "    print(i+1, names[i])"
   ]
  },
  {
   "cell_type": "code",
   "execution_count": 14,
   "metadata": {},
   "outputs": [],
   "source": [
    "students = ['John', 'Mary', 'Bob', 'Alice', 'Mike', 'Jane', 'Tom', 'Jack']\n",
    "grades = [3.5, 7.0, 5.5, 8.0, 6.0, 9.0, 7.5, 8.5]"
   ]
  },
  {
   "cell_type": "code",
   "execution_count": 17,
   "metadata": {},
   "outputs": [
    {
     "name": "stdout",
     "output_type": "stream",
     "text": [
      "Alice     : 8.00\n",
      "Jane      : 9.00\n",
      "Jack      : 8.50\n",
      "Number of distinction students: 3\n"
     ]
    }
   ],
   "source": [
    "# Print distinction students (grade >= 8.0), count the number of distinction students\n",
    "count = 0\n",
    "for i in range(len(students)):\n",
    "    if grades[i] >= 8.0:\n",
    "        print(f'{students[i]:10s}: {grades[i]:.2f}')\n",
    "        count += 1\n",
    "\n",
    "print('Number of distinction students:', count)"
   ]
  },
  {
   "cell_type": "code",
   "execution_count": 25,
   "metadata": {},
   "outputs": [
    {
     "name": "stdout",
     "output_type": "stream",
     "text": [
      "Pen        : $180.00\n",
      "Pencil     : $312.00\n",
      "Notebook   : $140.00\n",
      "Eraser     : $150.00\n",
      "Stapler    : $270.00\n",
      "Total sales: $1052.00\n",
      "Product with the highest sales: Pencil: $312.00\n"
     ]
    }
   ],
   "source": [
    "products = ['Pen', 'Pencil', 'Notebook', 'Eraser', 'Stapler']\n",
    "prices = [1.5, 1.2, 2.0, 0.5, 3.0]\n",
    "solds = [120, 260, 70, 300, 90]\n",
    "\n",
    "# TODO: print each product with its sales (price * sold), finally print the total sales\n",
    "total_sales = 0\n",
    "for i in range(len(products)):\n",
    "    sales = prices[i] * solds[i]\n",
    "    print(f'{products[i]:11s}: ${sales:.2f}')\n",
    "    total_sales += sales\n",
    "print(f'Total sales: ${total_sales:.2f}')\n",
    "\n",
    "# TODO: print the product with the highest sales\n",
    "max_sales = 0\n",
    "max_product = ''\n",
    "for i in range(len(products)):\n",
    "    sales = prices[i] * solds[i]\n",
    "    if sales > max_sales:\n",
    "        max_sales = sales\n",
    "        max_product = products[i]\n",
    "print(f'Product with the highest sales: {max_product}: ${max_sales:.2f}')"
   ]
  },
  {
   "cell_type": "code",
   "execution_count": 36,
   "metadata": {},
   "outputs": [
    {
     "name": "stdout",
     "output_type": "stream",
     "text": [
      "[73, 98, 82, 40]\n",
      "[73, 98, 82, 40, 34, 96, 95]\n",
      "[40, 34, 96, 95]\n"
     ]
    }
   ],
   "source": [
    "import random as rd\n",
    "# Slicing: create a sub-list from a list\n",
    "numbers = rd.sample(range(1, 100), 10) # create 10 random numbers from 1 to 99\n",
    "print(numbers[3:7]) # from index 3 to 6\n",
    "print(numbers[3:]) # from index 3 to the end\n",
    "print(numbers[-4:]) # from index -4 to the end\n"
   ]
  },
  {
   "cell_type": "code",
   "execution_count": 37,
   "metadata": {},
   "outputs": [
    {
     "name": "stdout",
     "output_type": "stream",
     "text": [
      "[84, 97, 37, 73, 98, 82, 40, 34, 96, 95]\n",
      "[95, 96, 34, 40, 82, 98, 73, 37, 97, 84]\n"
     ]
    }
   ],
   "source": [
    "# reverse a list\n",
    "print(numbers)\n",
    "print(numbers[::-1])"
   ]
  },
  {
   "cell_type": "code",
   "execution_count": null,
   "metadata": {},
   "outputs": [],
   "source": [
    "# List's methods\n",
    "# sort(): sort a list (ascending order or descending order)\n",
    "# append(): add an item to the end of a list\n",
    "# insert(): insert an item to a list at a specified position\n",
    "# remove(): remove an item from a list based on its value"
   ]
  },
  {
   "cell_type": "code",
   "execution_count": null,
   "metadata": {},
   "outputs": [],
   "source": [
    "numbers.sort() # sort in ascending order by default\n",
    "print(numbers)\n",
    "numbers.sort(reverse=True) # sort in descending order\n",
    "print(numbers)\n",
    "numbers.append(100) # add 100 to the end of the list\n",
    "print(numbers)\n",
    "numbers.insert(5, 200) # insert 200 to the list at index 5\n",
    "print(numbers)\n",
    "numbers.remove(84) # remove 88 from the list\n",
    "print(numbers)"
   ]
  },
  {
   "cell_type": "code",
   "execution_count": 41,
   "metadata": {},
   "outputs": [
    {
     "name": "stdout",
     "output_type": "stream",
     "text": [
      "[200, 100, 98, 97, 96, 200, 95, 82, 73, 40, 37, 34, 100]\n",
      "Length of numbers: 13\n",
      "Minimum value of numbers: 34\n",
      "Maximum value of numbers: 200\n",
      "Sum of numbers: 1252\n"
     ]
    }
   ],
   "source": [
    "# Functions for list\n",
    "# len(): return the length of a list\n",
    "# min(): return the minimum value of a list\n",
    "# max(): return the maximum value of a list\n",
    "# sum(): return the sum of all items in a list\n",
    "print(numbers)\n",
    "print('Length of numbers:', len(numbers))\n",
    "print('Minimum value of numbers:', min(numbers))\n",
    "print('Maximum value of numbers:', max(numbers))\n",
    "print('Sum of numbers:', sum(numbers))"
   ]
  },
  {
   "cell_type": "code",
   "execution_count": 42,
   "metadata": {},
   "outputs": [
    {
     "name": "stdout",
     "output_type": "stream",
     "text": [
      "Student with highest grade: Jane\n"
     ]
    }
   ],
   "source": [
    "students = ['John', 'Mary', 'Bob', 'Alice', 'Mike', 'Jane', 'Tom', 'Jack']\n",
    "grades = [3.5, 7.0, 5.5, 8.0, 6.0, 9.0, 7.5, 8.5]\n",
    "# TODO: print the student with the highest grade\n",
    "print('Student with highest grade:', students[grades.index(max(grades))])"
   ]
  },
  {
   "cell_type": "code",
   "execution_count": 43,
   "metadata": {},
   "outputs": [
    {
     "name": "stdout",
     "output_type": "stream",
     "text": [
      "(1, 2, 3, 4, 5) <class 'tuple'>\n"
     ]
    }
   ],
   "source": [
    "# Tuple: a list that items cannot be changed\n",
    "# declare a tuple\n",
    "a = (1, 2, 3, 4, 5)\n",
    "print(a, type(a))"
   ]
  },
  {
   "cell_type": "code",
   "execution_count": 44,
   "metadata": {},
   "outputs": [
    {
     "ename": "TypeError",
     "evalue": "'tuple' object does not support item assignment",
     "output_type": "error",
     "traceback": [
      "\u001b[0;31m---------------------------------------------------------------------------\u001b[0m",
      "\u001b[0;31mTypeError\u001b[0m                                 Traceback (most recent call last)",
      "\u001b[1;32m/Volumes/GoogleDrive/My Drive/FPTU/Program - F2G new/Unit 14 - Business Intelligence/GCH0907/code/bigch0907/day2.ipynb Cell 17\u001b[0m in \u001b[0;36m<cell line: 1>\u001b[0;34m()\u001b[0m\n\u001b[0;32m----> <a href='vscode-notebook-cell:/Volumes/GoogleDrive/My%20Drive/FPTU/Program%20-%20F2G%20new/Unit%2014%20-%20Business%20Intelligence/GCH0907/code/bigch0907/day2.ipynb#X22sZmlsZQ%3D%3D?line=0'>1</a>\u001b[0m a[\u001b[39m0\u001b[39m] \u001b[39m=\u001b[39m \u001b[39m10\u001b[39m\n",
      "\u001b[0;31mTypeError\u001b[0m: 'tuple' object does not support item assignment"
     ]
    }
   ],
   "source": [
    "a[0] = 10 # error"
   ]
  },
  {
   "cell_type": "code",
   "execution_count": 45,
   "metadata": {},
   "outputs": [
    {
     "name": "stdout",
     "output_type": "stream",
     "text": [
      "(10, 2, 3, 4, 5)\n"
     ]
    }
   ],
   "source": [
    "a = (10, 2, 3, 4, 5) # this is a different tuple\n",
    "print(a)"
   ]
  },
  {
   "cell_type": "code",
   "execution_count": 50,
   "metadata": {},
   "outputs": [
    {
     "name": "stdout",
     "output_type": "stream",
     "text": [
      "[28, 27, 8, 36, 67, 62, 61, 89, 9, 84, 4, 74, 65, 96, 32, 7, 56, 60, 34, 88]\n",
      "[28, 27, 8, 36, 67, 62, 61, 89, 9, 84]\n",
      "[4, 74, 65, 96, 32, 7, 56, 60, 34, 88]\n"
     ]
    }
   ],
   "source": [
    "numbers = rd.sample(range(1, 100), 20) # create 20 random numbers from 1 to 99\n",
    "print(numbers)\n",
    "m = len(numbers) // 2\n",
    "first_half = numbers[:m]\n",
    "second_half = numbers[m:]\n",
    "print(first_half, second_half, sep='\\n')"
   ]
  },
  {
   "cell_type": "code",
   "execution_count": 51,
   "metadata": {},
   "outputs": [
    {
     "name": "stdout",
     "output_type": "stream",
     "text": [
      "[28, 27, 8, 36, 67, 62, 61, 89, 9, 84, 4, 74, 65, 96, 32, 7, 56, 60, 34, 88]\n",
      "[36, 67, 62, 61, 89, 9, 84, 4, 74, 65, 96, 32, 7, 56]\n"
     ]
    }
   ],
   "source": [
    "n = int(input('Enter n: '))\n",
    "middle = numbers[n:-n]\n",
    "print(numbers, middle, sep='\\n')"
   ]
  },
  {
   "cell_type": "code",
   "execution_count": 52,
   "metadata": {},
   "outputs": [
    {
     "name": "stdout",
     "output_type": "stream",
     "text": [
      "[28, 27, 8, 60, 34, 88]\n"
     ]
    }
   ],
   "source": [
    "the_rest = numbers[:n] + numbers[-n:]\n",
    "print(the_rest)"
   ]
  },
  {
   "cell_type": "code",
   "execution_count": 56,
   "metadata": {},
   "outputs": [
    {
     "ename": "IndexError",
     "evalue": "list index out of range",
     "output_type": "error",
     "traceback": [
      "\u001b[0;31m---------------------------------------------------------------------------\u001b[0m",
      "\u001b[0;31mIndexError\u001b[0m                                Traceback (most recent call last)",
      "\u001b[1;32m/Volumes/GoogleDrive/My Drive/FPTU/Program - F2G new/Unit 14 - Business Intelligence/GCH0907/code/bigch0907/day2.ipynb Cell 22\u001b[0m in \u001b[0;36m<cell line: 2>\u001b[0;34m()\u001b[0m\n\u001b[1;32m      <a href='vscode-notebook-cell:/Volumes/GoogleDrive/My%20Drive/FPTU/Program%20-%20F2G%20new/Unit%2014%20-%20Business%20Intelligence/GCH0907/code/bigch0907/day2.ipynb#X30sZmlsZQ%3D%3D?line=0'>1</a>\u001b[0m n \u001b[39m=\u001b[39m \u001b[39mint\u001b[39m(\u001b[39minput\u001b[39m(\u001b[39m'\u001b[39m\u001b[39mEnter n: \u001b[39m\u001b[39m'\u001b[39m))\n\u001b[0;32m----> <a href='vscode-notebook-cell:/Volumes/GoogleDrive/My%20Drive/FPTU/Program%20-%20F2G%20new/Unit%2014%20-%20Business%20Intelligence/GCH0907/code/bigch0907/day2.ipynb#X30sZmlsZQ%3D%3D?line=1'>2</a>\u001b[0m \u001b[39mprint\u001b[39m(numbers[n])\n",
      "\u001b[0;31mIndexError\u001b[0m: list index out of range"
     ]
    }
   ],
   "source": [
    "n = int(input('Enter n: '))\n",
    "print(numbers[n])"
   ]
  }
 ],
 "metadata": {
  "kernelspec": {
   "display_name": "Python 3.9.12 64-bit",
   "language": "python",
   "name": "python3"
  },
  "language_info": {
   "codemirror_mode": {
    "name": "ipython",
    "version": 3
   },
   "file_extension": ".py",
   "mimetype": "text/x-python",
   "name": "python",
   "nbconvert_exporter": "python",
   "pygments_lexer": "ipython3",
   "version": "3.9.12"
  },
  "orig_nbformat": 4,
  "vscode": {
   "interpreter": {
    "hash": "aee8b7b246df8f9039afb4144a1f6fd8d2ca17a180786b69acc140d282b71a49"
   }
  }
 },
 "nbformat": 4,
 "nbformat_minor": 2
}
